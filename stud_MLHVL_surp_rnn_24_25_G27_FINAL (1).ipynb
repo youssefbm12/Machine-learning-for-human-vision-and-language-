{
  "cells": [
    {
      "cell_type": "markdown",
      "metadata": {
        "id": "KgTwEqqdRL6S"
      },
      "source": [
        "# Sequence Processing with Recurrent Neural Networks"
      ]
    },
    {
      "cell_type": "markdown",
      "metadata": {
        "id": "SuI5RQwyRL6U"
      },
      "source": [
        "## Background\n",
        "\n",
        "So far, we have seen how word vectors can be constructed from corpus statistics, and how they can be utilized to infer latent semantic content either in isolation (e.g. genders from names) or in relation to one another (e.g. similarities and analogies).\n",
        "\n",
        "For tasks involving larger linguistic units such as phrases, sentences and dialogues, we need machinery capable of processing _sequences_ or _structures_ of words.\n",
        "\n",
        "Recurrent Neural Networks (RNNs) are an example of such machinery. For this assignment, you will construct a recurrent neural network that will predict properties of the upcoming (not yet seen) text. You know this situation from language models, which try to predict the next word in a sequence given context. What language models do is provide a conditional probability distribution over the whole vocabulary of the upcoming word. Here, however, we will simplify our life. Rather than trying to predict the upcoming word, **we will construct a recurrent neural network that will predict the part-of-speech tag (POS tag) of the upcoming word.** That is, the network will build a conditional probability distribution over the full list of POS tags of the upcoming word given the preceding context.\n",
        "\n",
        "Let's look at a few examples to make it clear what the model will be doing and to gauge intuion on how difficult this is. Sometimes, the task can be fairly easy. For instance, if the sentence starts as 'I want to...' then the next POS tag (the POS tag of the next word given this context) is very likely to be a verb in its base form (e.g., 'sleep'). Other times, it is harder. For instance, if the context is 'John left...' the continuation could be almost any POS tag, from the period (which has its own tag) to a preposition (as in 'John left at noon') through pronouns (as in 'John left us') to determiners (as in 'John left the city').\n",
        "\n",
        "This task can be seen as simplified case of using an RNN as a language model. A good reference point for RNNs as language models and for RNNs as labellers of POS tags is in Jurafsky and Martin [Chapter 8](https://web.stanford.edu/~jurafsky/slp3/8.pdf).\n",
        "\n",
        "You might wonder why anyone would bother modeling such prediction. One reason is that the resulting model can be seen as approximating human behavior, in this case, human behavior in reading and listening. It is a well-known fact that when we process text (or speech), we do not just passively wait for the incoming information. We are immediately interpreting and we predict what will be coming next. This prediction has various levels of abstraction: we might predict concrete words, but we also predict abstract properties of such words, such as gender or their phonological structures. The task that you do here can be seen as one step in this prediction process. We will try to see whether the resulting RNN model is in any way similar to humans.\n",
        "\n",
        "We will take a gradual approach, first inspecting recurrent neural networks, then moving on to data processing using high-grade word vectors before finally moving to the problem at hand.\n",
        "\n",
        "---\n",
        "\n",
        "There are 10 tasks in this assignment. Each comes with its sub-tasks and point distribution. The total of points is 40.\n",
        "\n",
        "---\n",
        "\n",
        "You are greatly encouraged to add comments to your code describing what particular lines of code do (in general, a great habit to have in your coding life).\n",
        "Additionally please follow these rules when submitting the notebook:\n",
        "\n",
        "* Put all code in the cell with the `# YOUR CODE HERE` comment or `NotImplemented`.\n",
        "* For theoretical questions, put your solution in the `YOUR ANSWER HERE` cell and keep the header(!).\n",
        "* Don't change or delete any initially provided cells, either text or code, unless explicitly instructed to do so.\n",
        "* Don't delete the comment lines `# TEST...` or edit their code cells. The test cells are for sanity checking. Passing them doesn't necessarily mean that your code is fine.\n",
        "* Don't change the names of provided functions and variables or arguments of the functions.\n",
        "* Don't clear the output of your code cells.\n",
        "* Don't output unnecessary info (e.g., printing variables for debugging purposes). This clutters the notebook and slows down the grading. You can have print() in the code, but comment them out before submitting the notebook.\n",
        "* Delete those cells that you inserted for your own debugging/testing purposes.\n",
        "* Don't forget to fill in the contribution information.\n",
        "* Test your code and **make sure we can run your notebook** in the colab environment.\n",
        "* A single notebook file (without archiving) per group should be submitted via BB.\n",
        "\n",
        "<font color=\"red\">Following these rules helps us to grade the submissions relatively efficiently. If these rules are violated, a submission will be subject to penalty points.</font>"
      ]
    },
    {
      "cell_type": "markdown",
      "metadata": {
        "id": "75FoL1vxRL6W"
      },
      "source": [
        "# <font color=\"red\">Contributions</font>\n",
        "\n",
        "Names of Group 64:\n",
        "* Youssef Ben mansour\n",
        "* Tim Kramer\n",
        "\n",
        "Contributions:\n",
        "* We both contributed equally to each exercise. We worked on each exercise independently and during the lab sessions, and then further compared and improved them. However, Youssef focussed a bit more contributing to c2 and Tim to c6 and c7.\n"
      ]
    },
    {
      "cell_type": "markdown",
      "metadata": {
        "id": "_Kx4_6SCRL6X"
      },
      "source": [
        "## Recurrent Neural Networks\n",
        "Recurrent Neural Networks are a particularly interesting class of neural networks. Unlike standard fully-connected networks that accept a fixed-size input and produce a fixed-size output over a predefined number of computational steps (i.e. network layers), RNNs instead operate on sequences of vectors.\n",
        "\n",
        "Computationally, feedforward networks may be seen as a trainable (but parametrically fixed) function, whereas RNNs act as continuous, stateful programs operating on sequences of inputs.\n",
        "Cognitively, this may be viewed as enhancing our system's perceptive and computational abilities with a notion of memory.\n",
        "In the general case, this statefulness is captured by an intermediate hidden vector which is adjusted throughout the computation, affected by both the immediately previous version of itself __and__ the current input.\n",
        "\n",
        "RNNs are nowadays established as the core machinery of neural sequence processing.\n",
        "\n",
        "A simple recurrent network (SRN or Elman network) is described by the equations:\n",
        "* $h_t = \\theta_h (W_h x_t + U_h h_{t-1} + b_h ) $\n",
        "* $y_t = \\theta_y (W_y h_t + b_y) $\n",
        "\n",
        "where (at timestep $t$) $x_t$, $h_t$, $y_t$ are the network's input, hidden and output representations respectively, $\\theta_h$, $\\theta_y$ are its hidden and output activation functions, and $W_h$, $U_h$, $b_h$, $W_y$, $b_y$ are the parametric tensors to be learned."
      ]
    },
    {
      "cell_type": "code",
      "execution_count": 1,
      "metadata": {
        "id": "Yz0cCHVARL6Y",
        "lines_to_next_cell": 1,
        "colab": {
          "base_uri": "https://localhost:8080/"
        },
        "outputId": "65e79852-21b7-454b-98f2-16e550ad8e84"
      },
      "outputs": [
        {
          "output_type": "stream",
          "name": "stdout",
          "text": [
            "torch ver=2.5.0+cu121\n",
            "numpy ver=1.26.4\n",
            "spacy ver=3.7.5\n"
          ]
        }
      ],
      "source": [
        "# Importing - all packages needed in this assignment\n",
        "\n",
        "# numpy for data analysis - should be lower than 2.0, otherwise there are compatibility issues with spacy;\n",
        "\n",
        "import pickle # pickle for loading existing python objects\n",
        "from collections import Counter, defaultdict # counter for simple counting models\n",
        "\n",
        "import numpy as np\n",
        "import pandas as pd\n",
        "\n",
        "# torch - for NNs\n",
        "import torch\n",
        "print(f\"torch ver={torch.__version__}\\nnumpy ver={np.__version__}\")\n",
        "from torch import FloatTensor, LongTensor\n",
        "from torch.nn.utils.rnn import pad_sequence\n",
        "from torch.utils.data import Dataset, DataLoader\n",
        "\n",
        "# sklearn for easy split of training and testing\n",
        "from sklearn.model_selection import train_test_split\n",
        "\n",
        "# matplotlib for plotting results\n",
        "from matplotlib import pyplot as plt\n",
        "\n",
        "# typing to indicate types in code\n",
        "from typing import Tuple, List, Callable, Optional, Dict\n",
        "torch.set_printoptions(precision=8) #to increase precision of printing floats\n",
        "\n",
        "# spacy for pretrained vectors\n",
        "import spacy\n",
        "print(f\"spacy ver={spacy.__version__}\")\n",
        "\n",
        "# tqdm to show progress bars during (long) loops\n",
        "from tqdm import tqdm"
      ]
    },
    {
      "cell_type": "markdown",
      "metadata": {
        "id": "17TG_mDURL6Z"
      },
      "source": [
        "We will use the following function to concisely convert torch tensors to numpy arrays before printing tensors."
      ]
    },
    {
      "cell_type": "code",
      "execution_count": 2,
      "metadata": {
        "id": "Po28H1R9RL6a"
      },
      "outputs": [],
      "source": [
        "# Conversion between tensor and np\n",
        "def tr2np(tensor):\n",
        "    \"\"\"Convert torch tensor into numpy array\"\"\"\n",
        "    return tensor.detach().cpu().numpy()"
      ]
    },
    {
      "cell_type": "code",
      "execution_count": 3,
      "metadata": {
        "id": "bvOLGYzW0bVR"
      },
      "outputs": [],
      "source": [
        "# define a global variable for processing unit\n",
        "# set it to cuda if gpu is available\n",
        "DEVICE = \"cuda\" if torch.cuda.is_available() else \"cpu\""
      ]
    },
    {
      "cell_type": "markdown",
      "metadata": {
        "id": "lF_pqTSdRL6b"
      },
      "source": [
        "### Our own SRN\n",
        "Let's make our own simple recurrent network from scratch, to get an idea of its inner workings. To make our life just a bit simpler, we will use `torch.nn.Linear` to model the internal transformations."
      ]
    },
    {
      "cell_type": "markdown",
      "metadata": {
        "id": "yNZzwc28RL6b"
      },
      "source": [
        "#### TASK 1\n",
        "Complete the `mySRN` class, which is initialized with the input $d_i$, hidden $d_h$ and output $d_o$ dimensionalities, as well as two non-linear functions $\\theta_h$ and $\\theta_y$, and constructs an SRN implementing three `torch.nn.Linear` layers:\n",
        "1. `x_to_h`: a layer that takes $x_t$ and produces $W_h x_t$\n",
        "2. `h_to_h`: a layer that takes $h_{t-1}$ and produces $U_h h_{t-1} + b_h$\n",
        "3. `h_to_y`: a layer that takes $h_t$ and produces $W_y h_t + b_y$\n",
        "\n",
        "Implement the function `step` that performs a computational step, accepting $x_t$ and $h_{t-1}$ and producing $h_t$ and $y_t$.\n",
        "\n",
        "Implement the function `forward` that accepts a List of inputs $X$, an initial hidden vector $h_{-1}$ and iteratively applies `step` until the input sequence is exhausted, returning a List of outputs $Y$ (of the same length as $X$).\n",
        "\n",
        "<font color=\"red\">_Hint_: Note that `x_to_h` does not have a bias term $b$, since we will incorporate it into `h_to_h`"
      ]
    },
    {
      "cell_type": "code",
      "execution_count": 16,
      "metadata": {
        "id": "4yOU88kPRL6c",
        "lines_to_next_cell": 1
      },
      "outputs": [],
      "source": [
        "# @title c1 [2pt]\n",
        "# simple and slow RNN\n",
        "\n",
        "class MySRN(torch.nn.Module):\n",
        "    \"\"\"\n",
        "    SRN module, hand-coded.\n",
        "    The dimension and activation argumenst are self-descriptive.\n",
        "    device points to the device ('cpu' or 'cuda') on which the tensors and computations on them will be allocated.\n",
        "    \"\"\"\n",
        "\n",
        "    def __init__(\n",
        "        self,\n",
        "        input_dim: int,\n",
        "        hidden_dim: int,\n",
        "        output_dim: int,\n",
        "        hidden_activation: Callable[[FloatTensor], FloatTensor],\n",
        "        output_activation: Callable[[FloatTensor], FloatTensor],\n",
        "        device: str = 'cpu',\n",
        "        seed: int = 42\n",
        "    ) -> None:\n",
        "        super().__init__()\n",
        "        self.hidden_activation = hidden_activation\n",
        "        self.output_activation = output_activation\n",
        "        self.device = device\n",
        "        #\n",
        "        torch.manual_seed(seed)\n",
        "        self.x_to_h = torch.nn.Linear(input_dim, hidden_dim, bias=False)\n",
        "        self.h_to_h = torch.nn.Linear(hidden_dim, hidden_dim, bias=True)\n",
        "        self.h_to_y = torch.nn.Linear(hidden_dim, output_dim, bias=True)\n",
        "        # YOUR CODE HERE\n",
        "\n",
        "    def step(self, x: FloatTensor, hprev: FloatTensor) -> Tuple[FloatTensor, FloatTensor]:\n",
        "        \"\"\"\n",
        "        step performs a computational step, accepting x_t and hprev (h_{t-1}) and producing h_t and y_t\n",
        "        \"\"\"\n",
        "        h_t = self.hidden_activation(self.x_to_h(x) + self.h_to_h(hprev))\n",
        "        y_t = self.output_activation(self.h_to_y(h_t))\n",
        "\n",
        "        return h_t, y_t\n",
        "\n",
        "    def forward(self, X: List[FloatTensor], hprev: FloatTensor) -> List[FloatTensor]:\n",
        "        \"\"\"\n",
        "        forward accepts a List of inputs X, an initial hidden vector hprev (h_{t−1}) and\n",
        "        iteratively applies step until the input sequence is exhausted,\n",
        "        returning a List of outputs Y (of the same length as X).\n",
        "        \"\"\"\n",
        "        # for each output element y_t, detach it before appending to Y\n",
        "        # YOUR CODE HERE\n",
        "        Y = []\n",
        "        for input in X:\n",
        "            hprev, y_t = self.step(input, hprev)\n",
        "            Y.append(y_t.detach())\n",
        "        return Y"
      ]
    },
    {
      "cell_type": "markdown",
      "metadata": {
        "id": "ZAS-KhboRL6d"
      },
      "source": [
        "The following toy RNN helps you to verify whether your implementation is correct.  \n",
        "Use the numbers below in the functions, and you can manually verify the output of the RNN.  \n",
        "This manual check will help you to see whether you are understanding the calculations behind the RNN."
      ]
    },
    {
      "cell_type": "code",
      "execution_count": 17,
      "metadata": {
        "id": "KDlZ1uyeRL6d",
        "colab": {
          "base_uri": "https://localhost:8080/"
        },
        "outputId": "835e404c-ed81-4f9b-d2b7-0ee2650a9ae1"
      },
      "outputs": [
        {
          "output_type": "stream",
          "name": "stdout",
          "text": [
            "X->H \n",
            "matrix:\n",
            " [[ 0.44140652  0.47920528 -0.13525727]\n",
            " [ 0.53036046 -0.1264995   0.11650391]] \n",
            "bias: None\n",
            "H->H \n",
            "matrix:\n",
            " [[-0.3442585   0.41527155]\n",
            " [ 0.62334496 -0.5187534 ]] \n",
            "bias: [0.6146145  0.13234161]\n",
            "H->Y \n",
            "matrix:\n",
            " [[0.5224168  0.09576388]] \n",
            "bias: [0.34095848]\n",
            "output:\n",
            " [tensor([0.66232765]), tensor([0.94909447])]\n"
          ]
        }
      ],
      "source": [
        "# TEST c1\n",
        "# note that the default seed parameter makes output of the cell deterministic\n",
        "# create our RNN with some short dimensions\n",
        "my_rnn = MySRN(3, 2, 1, torch.nn.ReLU(), torch.nn.ReLU(), device='cpu')\n",
        "\n",
        "# printing initilized weights and biases\n",
        "print(\"X->H\", \"\\nmatrix:\\n\", tr2np(my_rnn.x_to_h.weight), \"\\nbias:\", my_rnn.x_to_h.bias)\n",
        "print(\"H->H\", \"\\nmatrix:\\n\", tr2np(my_rnn.h_to_h.weight), \"\\nbias:\", tr2np(my_rnn.h_to_h.bias))\n",
        "print(\"H->Y\", \"\\nmatrix:\\n\", tr2np(my_rnn.h_to_y.weight), \"\\nbias:\", tr2np(my_rnn.h_to_y.bias))\n",
        "\n",
        "# running the RNN on a sample input of size 2 and an initial hidden vector\n",
        "output = my_rnn.forward([FloatTensor([0,0,1]), FloatTensor([1,0,0])],\n",
        "                         FloatTensor([1,1]))\n",
        "\n",
        "print(\"output:\\n\", output)"
      ]
    },
    {
      "cell_type": "markdown",
      "metadata": {
        "id": "3jcbrmViRL6e"
      },
      "source": [
        "In practice, we do not need to write our own functions for common RNN architectures.\n",
        "Torch already provides the [necessary abstractions](https://pytorch.org/docs/stable/nn.html#recurrent-layers).\n",
        "\n",
        "The [RNN](https://pytorch.org/docs/stable/generated/torch.nn.RNN.html#torch.nn.RNN) wrapper implements highly optimized forward routines to compute the hidden representations of a full input sequence.\n",
        "\n",
        "Some pointers:\n",
        "* Unlike our naive implementation, RNN accepts a 3-dimensional tensor of shape (seq_len, batch_shape, input_dim) rather than a list of 2-dimensional tensors\n",
        "* If no initial hidden state is provided, it defaults to a zero tensor\n",
        "* The class produces just the RNN hidden states; it is up to us to define the `h_to_y` transformation on top of them\n",
        "* The non-linearity argument is a string; our only two choices are either `\"tanh\"` or `\"relu\"` (shorthands for `torch.nn.Tanh` and `torch.nn.ReLU` respectively)\n",
        "\n",
        "**Read the documentation (!) for further details.**\n",
        "\n",
        "A brief example is given below."
      ]
    },
    {
      "cell_type": "code",
      "execution_count": 18,
      "metadata": {
        "id": "rlIvkgA0RL6f",
        "colab": {
          "base_uri": "https://localhost:8080/"
        },
        "outputId": "77451228-c89c-441f-b5d8-e18d0bc63b09"
      },
      "outputs": [
        {
          "output_type": "stream",
          "name": "stdout",
          "text": [
            "torch.Size([10, 32, 48])\n"
          ]
        }
      ],
      "source": [
        "rnn = torch.nn.RNN(input_size=16, hidden_size=48, nonlinearity=\"tanh\")\n",
        "X = torch.rand(10, 32, 16)\n",
        "h, _ = rnn(X)\n",
        "print(h.shape)"
      ]
    },
    {
      "cell_type": "markdown",
      "metadata": {
        "id": "9HJaVCK2RL6f"
      },
      "source": [
        "So, for a random input tensor of shape (seq_len, batch_size, input_dim), we get back an output tensor of shape (seq_len, batch_size, hidden_dim)."
      ]
    },
    {
      "cell_type": "code",
      "execution_count": 19,
      "metadata": {
        "id": "YBsmdoLERL6f"
      },
      "outputs": [],
      "source": [
        "del MySRN, rnn, X, h, my_rnn, output #, Uh_b, Wx, h1, y1"
      ]
    },
    {
      "cell_type": "markdown",
      "metadata": {
        "id": "7G7Ej81tRL6g"
      },
      "source": [
        "#### TASK 2\n",
        "Create a new class, FastSRN, which uses the `RNN` wrapper and the `h_to_y` transformation."
      ]
    },
    {
      "cell_type": "code",
      "execution_count": 85,
      "metadata": {
        "id": "HKZzVy7qRL6g",
        "lines_to_next_cell": 1
      },
      "outputs": [],
      "source": [
        "# @title c2 [2pt]\n",
        "# faster RNN\n",
        "\n",
        "class FastSRN(torch.nn.Module):\n",
        "    \"\"\"\n",
        "    SRN module using RNN class in torch.\n",
        "    \"\"\"\n",
        "\n",
        "    def __init__(\n",
        "        self,\n",
        "        input_dim: int,\n",
        "        hidden_dim: int,\n",
        "        output_dim: int,\n",
        "        output_activation: Callable[[FloatTensor], FloatTensor],\n",
        "        hidden_activation: str = 'tanh',\n",
        "        num_layers: int = 1,\n",
        "        device: str = 'cpu',\n",
        "        seed: int = 42\n",
        "    ) -> None:\n",
        "        super().__init__()\n",
        "        self.device = device\n",
        "        torch.manual_seed(seed)\n",
        "\n",
        "        self.rnn = torch.nn.RNN(input_size=input_dim,\n",
        "                                hidden_size=hidden_dim,\n",
        "                                num_layers=num_layers,\n",
        "                                nonlinearity=hidden_activation)\n",
        "\n",
        "        self.h_to_y = torch.nn.Linear(hidden_dim, output_dim, bias=True)\n",
        "\n",
        "        self.hidden_activation = hidden_activation\n",
        "        self.output_activation = output_activation\n",
        "\n",
        "    def forward(self, X:FloatTensor, hprev: Optional[FloatTensor]=None) -> FloatTensor:\n",
        "        \"\"\"\n",
        "        forward accepts a List of inputs X, an initial hidden vector hprev (h_{t−1})\n",
        "        and iteratively applies step until the input sequence is exhausted,\n",
        "        returning a List of outputs Y (of the same length as X).\n",
        "        \"\"\"\n",
        "        seq, _ = self.rnn(X,hprev)\n",
        "\n",
        "        Y = []\n",
        "\n",
        "        for i in seq:\n",
        "          y = self.output_activation(self.h_to_y(i))\n",
        "          Y.append(y)\n",
        "        return torch.stack(Y,dim=0).to(self.device)"
      ]
    },
    {
      "cell_type": "markdown",
      "metadata": {
        "id": "iO-9GkJGRL6h"
      },
      "source": [
        "##### Testing the new implementation\n",
        "\n",
        "Let's see our new implementation in action.\n",
        "\n",
        "Initialize a random input tensor $X$ that would correspond to 32 sequences,  each of length 10, with each item having 16 features, and a `fastSRN` fit to process it, producing 42-dimensional hidden states and 2-dimensional output vectors for each sequence item.\n",
        "\n",
        "Run the SRN on the tensor and make sure the output shape is as expected."
      ]
    },
    {
      "cell_type": "code",
      "execution_count": 23,
      "metadata": {
        "id": "gJqR1U1DRL6h",
        "colab": {
          "base_uri": "https://localhost:8080/"
        },
        "outputId": "febd257a-ceda-4d1c-d00e-91e4ad827bc4"
      },
      "outputs": [
        {
          "output_type": "execute_result",
          "data": {
            "text/plain": [
              "torch.Size([10, 32, 2])"
            ]
          },
          "metadata": {},
          "execution_count": 23
        }
      ],
      "source": [
        "# TEST c2a\n",
        "fast_srn = FastSRN(input_dim=16, hidden_dim=42, output_dim=2,\n",
        "    output_activation=torch.nn.Softmax(dim=-1), device=\"cpu\"\n",
        ")\n",
        "X = torch.rand(10, 32, 16) # if device='cuda', this needs to be moved to 'cuda'\n",
        "y = fast_srn(X)\n",
        "y.shape"
      ]
    },
    {
      "cell_type": "markdown",
      "metadata": {
        "id": "jOh1zey2RL6h"
      },
      "source": [
        "Again you can verify correctness of your implementation here, and as before, check whether it really does the computations what equations are describing."
      ]
    },
    {
      "cell_type": "code",
      "execution_count": 24,
      "metadata": {
        "id": "dHezaxL-RL6i",
        "colab": {
          "base_uri": "https://localhost:8080/"
        },
        "outputId": "6a792b61-3ff5-4282-f2bd-5ef321727267"
      },
      "outputs": [
        {
          "output_type": "stream",
          "name": "stdout",
          "text": [
            "X->H \n",
            "matrix:\n",
            " [[ 0.5406104   0.5869042  -0.16565566]\n",
            " [ 0.6495563  -0.15492962  0.14268756]] \n",
            "bias: [0.6146145  0.13234161]\n",
            "H->H \n",
            "matrix:\n",
            " [[-0.3442585   0.41527155]\n",
            " [ 0.62334496 -0.5187534 ]] \n",
            "bias: [0.5224168  0.09576388]\n",
            "H->Y \n",
            "matrix:\n",
            " [[ 0.34095848 -0.09983712]\n",
            " [ 0.5450986   0.10451668]] \n",
            "bias: [-0.33010566  0.18024032]\n",
            "output:\n",
            " [[[0.313369   0.686631  ]]\n",
            "\n",
            " [[0.25354943 0.7464506 ]]]\n"
          ]
        }
      ],
      "source": [
        "# TEST c2b\n",
        "torch.manual_seed(10)\n",
        "# create our RNN with some short dimensions\n",
        "fast_srn = FastSRN(3, 2, 2, output_activation=torch.nn.Softmax(dim=-1), hidden_activation='relu', device='cpu')\n",
        "\n",
        "# printing initilized weights and biases\n",
        "print(\"X->H\", \"\\nmatrix:\\n\", tr2np(fast_srn.rnn.weight_ih_l0), \"\\nbias:\",  tr2np(fast_srn.rnn.bias_ih_l0))\n",
        "print(\"H->H\", \"\\nmatrix:\\n\", tr2np(fast_srn.rnn.weight_hh_l0), \"\\nbias:\", tr2np(fast_srn.rnn.bias_hh_l0))\n",
        "print(\"H->Y\", \"\\nmatrix:\\n\", tr2np(fast_srn.h_to_y.weight), \"\\nbias:\", tr2np(fast_srn.h_to_y.bias))\n",
        "\n",
        "\n",
        "# running the RNN on a sample input of size 2\n",
        "output = fast_srn.forward(torch.FloatTensor([[[0,0,1]], [[1,0,0]]]))\n",
        "\n",
        "print(\"output:\\n\", tr2np(output))"
      ]
    },
    {
      "cell_type": "code",
      "execution_count": 25,
      "metadata": {
        "id": "Ete9S87MRL6j"
      },
      "outputs": [],
      "source": [
        "del fast_srn, X, y, output"
      ]
    },
    {
      "cell_type": "markdown",
      "metadata": {
        "id": "GKdZ-AeXRL6j"
      },
      "source": [
        "You may have noticed a minor complication: in order to utilize batching, we need our input sequences to be of the same length.\n",
        "\n",
        "This, however, is very rarely the case in practice. A common trick against this problem is _padding_; that is, appending zero tensors to all input sequences shorter than the maximum in-batch length to make them all equally long.\n",
        "\n",
        "As usual, torch already does the hard work for us via [pad_sequence](https://pytorch.org/docs/stable/nn.html?highlight=pad%20_sequence#torch.nn.utils.rnn.pad_sequence). Given a list of $N$ 2-dimensional tensors, each of shape (seq\\_len$_n$, input_dim), it will construct a 3-d tensor of shape ($max_{n \\in N}${seq\\_len$_n$}, N, input_dim).\n",
        "\n",
        "An example:"
      ]
    },
    {
      "cell_type": "code",
      "execution_count": 26,
      "metadata": {
        "id": "Z77usk54RL6j",
        "colab": {
          "base_uri": "https://localhost:8080/"
        },
        "outputId": "115c8173-22f3-4985-c36a-2e1e64c17240"
      },
      "outputs": [
        {
          "output_type": "stream",
          "name": "stdout",
          "text": [
            "torch.Size([4, 3, 3])\n"
          ]
        }
      ],
      "source": [
        "x1 = torch.rand(1, 3)  # a sequence of 1, 3-dimensional item\n",
        "x2 = torch.rand(4, 3)  # a sequence of 4, 3-dimensional items\n",
        "x3 = torch.rand(2, 3)  # a sequence of 2, 3-dimensional items\n",
        "\n",
        "X = torch.nn.utils.rnn.pad_sequence([x1, x2, x3])\n",
        "\n",
        "# Can you guess what the shape of X is?\n",
        "print(X.shape)"
      ]
    },
    {
      "cell_type": "markdown",
      "metadata": {
        "id": "lNt7fmQoRL6j"
      },
      "source": [
        "Now compare the contents for better understanding."
      ]
    },
    {
      "cell_type": "code",
      "execution_count": 27,
      "metadata": {
        "id": "1ZUADvl_RL6k",
        "colab": {
          "base_uri": "https://localhost:8080/"
        },
        "outputId": "5aecdbf6-18f5-4f6c-faab-01c45748e9be"
      },
      "outputs": [
        {
          "output_type": "stream",
          "name": "stdout",
          "text": [
            "tensor([[0.26963168, 0.44136357, 0.29692084]])\n",
            "tensor([[0.83168548, 0.10531491, 0.26949483],\n",
            "        [0.35881263, 0.19936377, 0.54719156],\n",
            "        [0.00616044, 0.95155454, 0.07526588],\n",
            "        [0.88601369, 0.58320957, 0.33764774]])\n",
            "tensor([[0.80897498, 0.57792538, 0.90398169],\n",
            "        [0.55465984, 0.34231341, 0.63434184]])\n",
            "\n",
            "=================After combining==================\n",
            "\n",
            "tensor([[[0.26963168, 0.44136357, 0.29692084],\n",
            "         [0.83168548, 0.10531491, 0.26949483],\n",
            "         [0.80897498, 0.57792538, 0.90398169]],\n",
            "\n",
            "        [[0.00000000, 0.00000000, 0.00000000],\n",
            "         [0.35881263, 0.19936377, 0.54719156],\n",
            "         [0.55465984, 0.34231341, 0.63434184]],\n",
            "\n",
            "        [[0.00000000, 0.00000000, 0.00000000],\n",
            "         [0.00616044, 0.95155454, 0.07526588],\n",
            "         [0.00000000, 0.00000000, 0.00000000]],\n",
            "\n",
            "        [[0.00000000, 0.00000000, 0.00000000],\n",
            "         [0.88601369, 0.58320957, 0.33764774],\n",
            "         [0.00000000, 0.00000000, 0.00000000]]])\n"
          ]
        }
      ],
      "source": [
        "for i in [x1, x2, x3]: print(i)\n",
        "print(f\"\\n{'After combining':=^50}\\n\\n{X}\")"
      ]
    },
    {
      "cell_type": "code",
      "execution_count": 28,
      "metadata": {
        "id": "UhXM3lW6RL6k"
      },
      "outputs": [],
      "source": [
        "del x1, x2, x3, X, i"
      ]
    },
    {
      "cell_type": "markdown",
      "metadata": {
        "id": "zAAAEUELRL6k"
      },
      "source": [
        "## Pretrained Word Embeddings\n",
        "In the last assignment, we saw how to train our own word embeddings using a small toy corpus. Now, we will see how to easily get high-quality pretrained word vectors and how to utilize them for further downstream tasks.\n",
        "\n",
        "We are going to use [spaCy](https://spacy.io/). SpaCy is a high-level NLP library that provides a ton of useful functionalities, but we will only focus on its pretrained embeddings for this assignment.\n",
        "\n",
        "Before proceeding, [install spacy](https://spacy.io/usage) using your python package manager (e.g. `pip install spacy`), or it is already preinstalled if using the Colab environment."
      ]
    },
    {
      "cell_type": "markdown",
      "metadata": {
        "id": "ALmvqUrKRL6l"
      },
      "source": [
        "SpaCy comes with a lot of different-size models for different languages.\n",
        "\n",
        "We will need to download the large English model for the exercises to follow. You can do it by simply running the magic command below."
      ]
    },
    {
      "cell_type": "code",
      "execution_count": 29,
      "metadata": {
        "id": "l7kuR9J2RL6l",
        "colab": {
          "base_uri": "https://localhost:8080/"
        },
        "outputId": "8d0e5fa1-089b-4868-b713-e055516ccbad"
      },
      "outputs": [
        {
          "output_type": "stream",
          "name": "stdout",
          "text": [
            "Collecting en-core-web-lg==3.7.1\n",
            "  Downloading https://github.com/explosion/spacy-models/releases/download/en_core_web_lg-3.7.1/en_core_web_lg-3.7.1-py3-none-any.whl (587.7 MB)\n",
            "\u001b[2K     \u001b[90m━━━━━━━━━━━━━━━━━━━━━━━━━━━━━━━━━━━━━━━━\u001b[0m \u001b[32m587.7/587.7 MB\u001b[0m \u001b[31m2.3 MB/s\u001b[0m eta \u001b[36m0:00:00\u001b[0m\n",
            "\u001b[?25hRequirement already satisfied: spacy<3.8.0,>=3.7.2 in /usr/local/lib/python3.10/dist-packages (from en-core-web-lg==3.7.1) (3.7.5)\n",
            "Requirement already satisfied: spacy-legacy<3.1.0,>=3.0.11 in /usr/local/lib/python3.10/dist-packages (from spacy<3.8.0,>=3.7.2->en-core-web-lg==3.7.1) (3.0.12)\n",
            "Requirement already satisfied: spacy-loggers<2.0.0,>=1.0.0 in /usr/local/lib/python3.10/dist-packages (from spacy<3.8.0,>=3.7.2->en-core-web-lg==3.7.1) (1.0.5)\n",
            "Requirement already satisfied: murmurhash<1.1.0,>=0.28.0 in /usr/local/lib/python3.10/dist-packages (from spacy<3.8.0,>=3.7.2->en-core-web-lg==3.7.1) (1.0.10)\n",
            "Requirement already satisfied: cymem<2.1.0,>=2.0.2 in /usr/local/lib/python3.10/dist-packages (from spacy<3.8.0,>=3.7.2->en-core-web-lg==3.7.1) (2.0.8)\n",
            "Requirement already satisfied: preshed<3.1.0,>=3.0.2 in /usr/local/lib/python3.10/dist-packages (from spacy<3.8.0,>=3.7.2->en-core-web-lg==3.7.1) (3.0.9)\n",
            "Requirement already satisfied: thinc<8.3.0,>=8.2.2 in /usr/local/lib/python3.10/dist-packages (from spacy<3.8.0,>=3.7.2->en-core-web-lg==3.7.1) (8.2.5)\n",
            "Requirement already satisfied: wasabi<1.2.0,>=0.9.1 in /usr/local/lib/python3.10/dist-packages (from spacy<3.8.0,>=3.7.2->en-core-web-lg==3.7.1) (1.1.3)\n",
            "Requirement already satisfied: srsly<3.0.0,>=2.4.3 in /usr/local/lib/python3.10/dist-packages (from spacy<3.8.0,>=3.7.2->en-core-web-lg==3.7.1) (2.4.8)\n",
            "Requirement already satisfied: catalogue<2.1.0,>=2.0.6 in /usr/local/lib/python3.10/dist-packages (from spacy<3.8.0,>=3.7.2->en-core-web-lg==3.7.1) (2.0.10)\n",
            "Requirement already satisfied: weasel<0.5.0,>=0.1.0 in /usr/local/lib/python3.10/dist-packages (from spacy<3.8.0,>=3.7.2->en-core-web-lg==3.7.1) (0.4.1)\n",
            "Requirement already satisfied: typer<1.0.0,>=0.3.0 in /usr/local/lib/python3.10/dist-packages (from spacy<3.8.0,>=3.7.2->en-core-web-lg==3.7.1) (0.12.5)\n",
            "Requirement already satisfied: tqdm<5.0.0,>=4.38.0 in /usr/local/lib/python3.10/dist-packages (from spacy<3.8.0,>=3.7.2->en-core-web-lg==3.7.1) (4.66.6)\n",
            "Requirement already satisfied: requests<3.0.0,>=2.13.0 in /usr/local/lib/python3.10/dist-packages (from spacy<3.8.0,>=3.7.2->en-core-web-lg==3.7.1) (2.32.3)\n",
            "Requirement already satisfied: pydantic!=1.8,!=1.8.1,<3.0.0,>=1.7.4 in /usr/local/lib/python3.10/dist-packages (from spacy<3.8.0,>=3.7.2->en-core-web-lg==3.7.1) (2.9.2)\n",
            "Requirement already satisfied: jinja2 in /usr/local/lib/python3.10/dist-packages (from spacy<3.8.0,>=3.7.2->en-core-web-lg==3.7.1) (3.1.4)\n",
            "Requirement already satisfied: setuptools in /usr/local/lib/python3.10/dist-packages (from spacy<3.8.0,>=3.7.2->en-core-web-lg==3.7.1) (75.1.0)\n",
            "Requirement already satisfied: packaging>=20.0 in /usr/local/lib/python3.10/dist-packages (from spacy<3.8.0,>=3.7.2->en-core-web-lg==3.7.1) (24.1)\n",
            "Requirement already satisfied: langcodes<4.0.0,>=3.2.0 in /usr/local/lib/python3.10/dist-packages (from spacy<3.8.0,>=3.7.2->en-core-web-lg==3.7.1) (3.4.1)\n",
            "Requirement already satisfied: numpy>=1.19.0 in /usr/local/lib/python3.10/dist-packages (from spacy<3.8.0,>=3.7.2->en-core-web-lg==3.7.1) (1.26.4)\n",
            "Requirement already satisfied: language-data>=1.2 in /usr/local/lib/python3.10/dist-packages (from langcodes<4.0.0,>=3.2.0->spacy<3.8.0,>=3.7.2->en-core-web-lg==3.7.1) (1.2.0)\n",
            "Requirement already satisfied: annotated-types>=0.6.0 in /usr/local/lib/python3.10/dist-packages (from pydantic!=1.8,!=1.8.1,<3.0.0,>=1.7.4->spacy<3.8.0,>=3.7.2->en-core-web-lg==3.7.1) (0.7.0)\n",
            "Requirement already satisfied: pydantic-core==2.23.4 in /usr/local/lib/python3.10/dist-packages (from pydantic!=1.8,!=1.8.1,<3.0.0,>=1.7.4->spacy<3.8.0,>=3.7.2->en-core-web-lg==3.7.1) (2.23.4)\n",
            "Requirement already satisfied: typing-extensions>=4.6.1 in /usr/local/lib/python3.10/dist-packages (from pydantic!=1.8,!=1.8.1,<3.0.0,>=1.7.4->spacy<3.8.0,>=3.7.2->en-core-web-lg==3.7.1) (4.12.2)\n",
            "Requirement already satisfied: charset-normalizer<4,>=2 in /usr/local/lib/python3.10/dist-packages (from requests<3.0.0,>=2.13.0->spacy<3.8.0,>=3.7.2->en-core-web-lg==3.7.1) (3.4.0)\n",
            "Requirement already satisfied: idna<4,>=2.5 in /usr/local/lib/python3.10/dist-packages (from requests<3.0.0,>=2.13.0->spacy<3.8.0,>=3.7.2->en-core-web-lg==3.7.1) (3.10)\n",
            "Requirement already satisfied: urllib3<3,>=1.21.1 in /usr/local/lib/python3.10/dist-packages (from requests<3.0.0,>=2.13.0->spacy<3.8.0,>=3.7.2->en-core-web-lg==3.7.1) (2.2.3)\n",
            "Requirement already satisfied: certifi>=2017.4.17 in /usr/local/lib/python3.10/dist-packages (from requests<3.0.0,>=2.13.0->spacy<3.8.0,>=3.7.2->en-core-web-lg==3.7.1) (2024.8.30)\n",
            "Requirement already satisfied: blis<0.8.0,>=0.7.8 in /usr/local/lib/python3.10/dist-packages (from thinc<8.3.0,>=8.2.2->spacy<3.8.0,>=3.7.2->en-core-web-lg==3.7.1) (0.7.11)\n",
            "Requirement already satisfied: confection<1.0.0,>=0.0.1 in /usr/local/lib/python3.10/dist-packages (from thinc<8.3.0,>=8.2.2->spacy<3.8.0,>=3.7.2->en-core-web-lg==3.7.1) (0.1.5)\n",
            "Requirement already satisfied: click>=8.0.0 in /usr/local/lib/python3.10/dist-packages (from typer<1.0.0,>=0.3.0->spacy<3.8.0,>=3.7.2->en-core-web-lg==3.7.1) (8.1.7)\n",
            "Requirement already satisfied: shellingham>=1.3.0 in /usr/local/lib/python3.10/dist-packages (from typer<1.0.0,>=0.3.0->spacy<3.8.0,>=3.7.2->en-core-web-lg==3.7.1) (1.5.4)\n",
            "Requirement already satisfied: rich>=10.11.0 in /usr/local/lib/python3.10/dist-packages (from typer<1.0.0,>=0.3.0->spacy<3.8.0,>=3.7.2->en-core-web-lg==3.7.1) (13.9.3)\n",
            "Requirement already satisfied: cloudpathlib<1.0.0,>=0.7.0 in /usr/local/lib/python3.10/dist-packages (from weasel<0.5.0,>=0.1.0->spacy<3.8.0,>=3.7.2->en-core-web-lg==3.7.1) (0.20.0)\n",
            "Requirement already satisfied: smart-open<8.0.0,>=5.2.1 in /usr/local/lib/python3.10/dist-packages (from weasel<0.5.0,>=0.1.0->spacy<3.8.0,>=3.7.2->en-core-web-lg==3.7.1) (7.0.5)\n",
            "Requirement already satisfied: MarkupSafe>=2.0 in /usr/local/lib/python3.10/dist-packages (from jinja2->spacy<3.8.0,>=3.7.2->en-core-web-lg==3.7.1) (3.0.2)\n",
            "Requirement already satisfied: marisa-trie>=0.7.7 in /usr/local/lib/python3.10/dist-packages (from language-data>=1.2->langcodes<4.0.0,>=3.2.0->spacy<3.8.0,>=3.7.2->en-core-web-lg==3.7.1) (1.2.1)\n",
            "Requirement already satisfied: markdown-it-py>=2.2.0 in /usr/local/lib/python3.10/dist-packages (from rich>=10.11.0->typer<1.0.0,>=0.3.0->spacy<3.8.0,>=3.7.2->en-core-web-lg==3.7.1) (3.0.0)\n",
            "Requirement already satisfied: pygments<3.0.0,>=2.13.0 in /usr/local/lib/python3.10/dist-packages (from rich>=10.11.0->typer<1.0.0,>=0.3.0->spacy<3.8.0,>=3.7.2->en-core-web-lg==3.7.1) (2.18.0)\n",
            "Requirement already satisfied: wrapt in /usr/local/lib/python3.10/dist-packages (from smart-open<8.0.0,>=5.2.1->weasel<0.5.0,>=0.1.0->spacy<3.8.0,>=3.7.2->en-core-web-lg==3.7.1) (1.16.0)\n",
            "Requirement already satisfied: mdurl~=0.1 in /usr/local/lib/python3.10/dist-packages (from markdown-it-py>=2.2.0->rich>=10.11.0->typer<1.0.0,>=0.3.0->spacy<3.8.0,>=3.7.2->en-core-web-lg==3.7.1) (0.1.2)\n",
            "Installing collected packages: en-core-web-lg\n",
            "Successfully installed en-core-web-lg-3.7.1\n",
            "\u001b[38;5;2m✔ Download and installation successful\u001b[0m\n",
            "You can now load the package via spacy.load('en_core_web_lg')\n",
            "\u001b[38;5;3m⚠ Restart to reload dependencies\u001b[0m\n",
            "If you are in a Jupyter or Colab notebook, you may need to restart Python in\n",
            "order to load all the package's dependencies. You can do this by selecting the\n",
            "'Restart kernel' or 'Restart runtime' option.\n"
          ]
        }
      ],
      "source": [
        "!python3 -m spacy download en_core_web_lg"
      ]
    },
    {
      "cell_type": "markdown",
      "metadata": {
        "id": "Th7D5H7nRL6l"
      },
      "source": [
        "After having downloaded the model, we can load it as follows (you may need to restart your notebook after the download is complete):"
      ]
    },
    {
      "cell_type": "code",
      "execution_count": 30,
      "metadata": {
        "id": "QXRNdoKPRL6l"
      },
      "outputs": [],
      "source": [
        "nlp = spacy.load(\"en_core_web_lg\")"
      ]
    },
    {
      "cell_type": "markdown",
      "metadata": {
        "id": "0mtryqohRL6m"
      },
      "source": [
        "We can then use the loaded model to process a sentence and obtain its word vectors, a List of 300-dimensional numpy arrays. [More info](https://spacy.io/models/en#en_core_web_lg) about vectors coming with `en_core_web_lg`.  \n",
        "We can also check similarities between the vectors, e.g., `words` is more similar to `sentence` than to `this`."
      ]
    },
    {
      "cell_type": "code",
      "execution_count": 31,
      "metadata": {
        "id": "mlrz38KrRL6m",
        "colab": {
          "base_uri": "https://localhost:8080/"
        },
        "outputId": "59bc2b2c-ebb8-4110-81c1-d9ecf9838cbe"
      },
      "outputs": [
        {
          "output_type": "stream",
          "name": "stdout",
          "text": [
            "We have 7 vectors, each of shape (300,) and of type <class 'numpy.ndarray'>\n",
            "'words' is 0.51 similar to 'sentence' and 0.36 similar to 'this'\n"
          ]
        }
      ],
      "source": [
        "doc = nlp(\"this is a sentence of 7 words\")  # the processed sentence\n",
        "vectors = list(map(lambda x: x.vector, doc))  # its vectors\n",
        "# vectors = [ t.vector for t in doc ] # or the same with list comprehension\n",
        "\n",
        "print(f\"We have {len(vectors)} vectors\", end=\", \")\n",
        "print(f\"each of shape {vectors[0].shape} and of type {type(vectors[0])}\")\n",
        "\n",
        "print(f\"'{doc[6]}' is {doc[6].similarity(doc[3]):.2f} similar to '{doc[3]}' and {doc[6].similarity(doc[0]):.2f} similar to '{doc[0]}'\")"
      ]
    },
    {
      "cell_type": "markdown",
      "metadata": {
        "id": "zzWqTHErRL6n"
      },
      "source": [
        "And then finally convert them into torch tensors."
      ]
    },
    {
      "cell_type": "code",
      "execution_count": 32,
      "metadata": {
        "id": "t01KiV3-RL6n",
        "colab": {
          "base_uri": "https://localhost:8080/"
        },
        "outputId": "d4122483-1b75-47ff-f09f-7b106948b82c"
      },
      "outputs": [
        {
          "output_type": "stream",
          "name": "stdout",
          "text": [
            "torch.Size([7, 300])\n"
          ]
        }
      ],
      "source": [
        "torch_vectors = torch.tensor(np.array(vectors))\n",
        "# torch_vectors = torch.tensor(vectors) # this is also fine but might get an efficiency warning from torch\n",
        "print(torch_vectors.shape)"
      ]
    },
    {
      "cell_type": "markdown",
      "metadata": {
        "id": "aH00drXzRL6n"
      },
      "source": [
        "Or, in the case of multiple sentences:"
      ]
    },
    {
      "cell_type": "code",
      "execution_count": 33,
      "metadata": {
        "id": "jMEDL92hRL6o",
        "colab": {
          "base_uri": "https://localhost:8080/"
        },
        "outputId": "4b13d530-174b-4d66-cde8-8084c228a6ba"
      },
      "outputs": [
        {
          "output_type": "stream",
          "name": "stdout",
          "text": [
            "torch.Size([4, 300])\n"
          ]
        }
      ],
      "source": [
        "# Example sentences.\n",
        "sentences = [\"This is a sentence\", \"This is another sentence.\"]\n",
        "\n",
        "# Parallel processing with spacy.\n",
        "docs = list(map(nlp, sentences))\n",
        "\n",
        "# Convert each processed sentence into a list of vectors.\n",
        "vectors = map(lambda doc: [word.vector for word in doc], docs)\n",
        "\n",
        "# Convert each list of vectors into a 2-d torch tensor.\n",
        "tensors = list(map(lambda sentence_vectors: torch.tensor(np.array(sentence_vectors)), vectors))\n",
        "print(tensors[0].shape)"
      ]
    },
    {
      "cell_type": "markdown",
      "metadata": {
        "id": "KneP-DJARL6o"
      },
      "source": [
        "Given our pretrained embeddings, we may represent sentences as _sequences of pretrained vectors_, which is exactly the format expected by an RNN. (That is, to be clear, our pretrained embeddings will be used as input vectors for our RNN.)"
      ]
    },
    {
      "cell_type": "markdown",
      "metadata": {
        "id": "6HaOBUqRRL6o"
      },
      "source": [
        "### Examining the data\n",
        "First, let's load and inspect our data files.\n",
        "\n",
        "The pickle file contains three items:\n",
        "1. `sentences`: a List of strings (sentences)\n",
        "2. `postags`: a List of Lists of strings (POS tags)\n",
        "3. `pos_to_int`: a Dictionary from strings to ints (mapping each POS tag to a unique identifier)"
      ]
    },
    {
      "cell_type": "code",
      "execution_count": 34,
      "metadata": {
        "id": "4f4p4mjkRL6p",
        "colab": {
          "base_uri": "https://localhost:8080/"
        },
        "outputId": "4cd23ea3-e849-4fc8-d2eb-aad050440e79"
      },
      "outputs": [
        {
          "output_type": "stream",
          "name": "stdout",
          "text": [
            "2024-11-09 14:44:57 URL:https://naturallogic.pro/_files_/download/MLHVL/pos-rnn-data.zip [2162187/2162187] -> \"pos-rnn-data.zip\" [1]\n",
            "Archive:  pos-rnn-data.zip\n",
            "  inflating: TEST.p                  \n",
            "  inflating: TRAIN.p                 \n"
          ]
        }
      ],
      "source": [
        "# Download files on the fly with the below two lines\n",
        "!wget -nv https://naturallogic.pro/_files_/download/MLHVL/pos-rnn-data.zip\n",
        "!unzip -n pos-rnn-data.zip"
      ]
    },
    {
      "cell_type": "code",
      "execution_count": 35,
      "metadata": {
        "id": "KmKZN9v_RL6p"
      },
      "outputs": [],
      "source": [
        "import pickle\n",
        "with open(\"TRAIN.p\", \"rb\") as f:\n",
        "    sentences, postags, pos_to_int = pickle.load(f)"
      ]
    },
    {
      "cell_type": "markdown",
      "metadata": {
        "id": "3zyPpw07RL6p"
      },
      "source": [
        "Let's sanity check that we have the same number of sentences as pos tag annotations and for each sentence and annotation pair, the number of tokens and tags are the same."
      ]
    },
    {
      "cell_type": "code",
      "execution_count": 36,
      "metadata": {
        "id": "eUIHuXiHRL6p"
      },
      "outputs": [],
      "source": [
        "assert all(list(map(lambda s, p: len(s.split()) == len(p), sentences, postags)))"
      ]
    },
    {
      "cell_type": "markdown",
      "metadata": {
        "id": "3k98ihwYRL6q"
      },
      "source": [
        "Now, let us take a moment to understand the data a bit more.\n",
        "Run the cell below with different values of `i` to get an idea of how the data looks like."
      ]
    },
    {
      "cell_type": "code",
      "execution_count": 37,
      "metadata": {
        "id": "VBHb9eImRL6q",
        "colab": {
          "base_uri": "https://localhost:8080/"
        },
        "outputId": "00bad156-b9f7-4410-f554-5f80b44cb805"
      },
      "outputs": [
        {
          "output_type": "stream",
          "name": "stdout",
          "text": [
            "The/DT luxury/NN auto/NN maker/NN last/JJ year/NN sold/VBD 1,214/CD cars/NNS in/IN the/DT U.S./NNP "
          ]
        }
      ],
      "source": [
        "i = 2\n",
        "for tok, tag in zip(sentences[i].split(), postags[i]):\n",
        "    print(f\"{tok}/{tag}\", end=' ')"
      ]
    },
    {
      "cell_type": "code",
      "execution_count": 38,
      "metadata": {
        "id": "CALfFyxgCz6v"
      },
      "outputs": [],
      "source": [
        "del i, tok, tag, torch_vectors, vectors, f, doc, docs, tensors"
      ]
    },
    {
      "cell_type": "markdown",
      "metadata": {
        "id": "n3q4FEHERL6q"
      },
      "source": [
        "#### TASK 3\n",
        "\n",
        "The POS tags in this dataset are in the style of the Penn Treebank. Find the top 20 most common tags and summarise by plotting their frequencies, e.g., the histogram of the top 20 most frequent POS tags sitting on the x axis and y axis marking their raw counts. Find what these tags mean linguistically and state what the top 6 POS tags represent. See https://www.ling.upenn.edu/courses/Fall_2003/ling001/penn_treebank_pos.html for details.  \n",
        "<font color=\"red\">_Hint_: you can use pandas; the 7th and 8th most frequent tags are punctuation marks.</font>"
      ]
    },
    {
      "cell_type": "code",
      "execution_count": 39,
      "metadata": {
        "id": "9YreOuYkRL6r",
        "colab": {
          "base_uri": "https://localhost:8080/",
          "height": 463
        },
        "outputId": "535c60cc-1af7-41ae-aac4-0e7386f6e921"
      },
      "outputs": [
        {
          "output_type": "execute_result",
          "data": {
            "text/plain": [
              "<Axes: >"
            ]
          },
          "metadata": {},
          "execution_count": 39
        },
        {
          "output_type": "display_data",
          "data": {
            "text/plain": [
              "<Figure size 640x480 with 1 Axes>"
            ],
            "image/png": "[encoded data removed]"
          },
          "metadata": {}
        }
      ],
      "source": [
        "# @title c3.1 [1pt]\n",
        "\n",
        "flattened_ags = pd.Series(np.concatenate(postags).flat)\n",
        "\n",
        "top20 = flattened_ags.value_counts(dropna=False).head(20)\n",
        "\n",
        "top20.plot(kind='bar')"
      ]
    },
    {
      "cell_type": "markdown",
      "metadata": {
        "id": "ekTGBBzWRL6r"
      },
      "source": [
        "We will explore the data some more, which will lead us to two baseline models on predicting POS tags. The first model would simply predicting the most frequent POS tag regardless of the input word sequence. We call such a model the most frequent tag (MFT) model.\n",
        "\n",
        "Write a function that takes training and test sets of POS tags and returns (i) the score of the MFT model on the test set, and (ii) the MFT based on the training set.    \n",
        "Note that the function doesn't take training and test sets of sentences as the MFT model doesn't make use of word sequences.  \n",
        "<font color=\"red\">_Hint_: you might want to use `Counter` from `collections` that facilitates counting itmes.</font>"
      ]
    },
    {
      "cell_type": "code",
      "execution_count": 40,
      "metadata": {
        "id": "dLcWvvSKRL6r"
      },
      "outputs": [],
      "source": [
        "# @title c3.2 [1pt]\n",
        "\n",
        "def mft_baseline(pos_train: List[List[str]], pos_test: List[List[str]]) -> Tuple[float, str]:\n",
        "    \"\"\"\n",
        "    Takes training and test sets of POS tags and returns\n",
        "    (i) the score of the MFT model on the test set, and (ii) the MFT on the training set.\n",
        "    \"\"\"\n",
        "    flattened_train = [tag for sentence in pos_train for tag in sentence]\n",
        "    mft = Counter(flattened_train).most_common(1)[0][0]\n",
        "\n",
        "    total_tags = sum(len(sentence) for sentence in pos_test)\n",
        "    correct_predictions = sum(tag == mft for sentence in pos_test for tag in sentence)\n",
        "    score = correct_predictions / total_tags\n",
        "\n",
        "    return score, mft"
      ]
    },
    {
      "cell_type": "code",
      "execution_count": 41,
      "metadata": {
        "id": "B-FKsDNhCAWa",
        "colab": {
          "base_uri": "https://localhost:8080/"
        },
        "outputId": "c046ae5b-81bf-4aa8-bd34-b42bea72d417"
      },
      "outputs": [
        {
          "output_type": "stream",
          "name": "stdout",
          "text": [
            "mft_score = 0.1408964685014757, where mft = NN\n"
          ]
        }
      ],
      "source": [
        "# TEST c3.2\n",
        "# testing the function on the sample input\n",
        "mft_score, mft = mft_baseline(postags[:24_000], postags[24_000:])\n",
        "print(f\"mft_score = {mft_score}, where mft = {mft}\")\n",
        "\n",
        "assert mft_score > 0.10"
      ]
    },
    {
      "cell_type": "markdown",
      "metadata": {
        "id": "yKDz6MTDRL6s"
      },
      "source": [
        "Another baseline model to predict POS tag would assign the most frequent POS tag given the single previous word. This baseline is called the unigram baseline. We will explore how much data would be accounted for this way.  \n",
        "\n",
        "Complete the function `unigram_baseline` below. It takes usual input: training and test sets, each represented with list of sentences and list of the corresonding POS tags. Note that unlike the MFT baseline, the unigram baseline takes words into account. The function returns (i) the score that the unigram model trained on the training set obtains on the test set, and (ii) the unigram model that is represented as a [`defaultdict`](https://docs.python.org/3/library/collections.html#collections.defaultdict), where he default value is the most frequent tag that is predicted for the words unseen in the training set, but seen in the test set."
      ]
    },
    {
      "cell_type": "code",
      "execution_count": 43,
      "metadata": {
        "id": "v0kw8UdvE3EF"
      },
      "outputs": [],
      "source": [
        "# @title c3.3 [2pt]\n",
        "\n",
        "def unigram_baseline(sen_train: List[str], pos_train: List[List[str]],\n",
        "                     sen_test: List[str], pos_test: List[List[str]]) -> Tuple[float, defaultdict]:\n",
        "    \"\"\"\n",
        "    Takes training and test sets, each represented with list of sentences and list of the corresonding POS tags.\n",
        "    Note that unlike the MFT baseline, the unigram baseline takes words into account.\n",
        "    \"\"\"\n",
        "    # you can reuse mft_baseline to get the most frequent tag\n",
        "\n",
        "    _, mft = mft_baseline(pos_train, pos_test)\n",
        "\n",
        "    # create unigram baseline model based on previous tag\n",
        "    pos_tag_counts = defaultdict(lambda: defaultdict(int))\n",
        "\n",
        "    for pos_tags in pos_train:\n",
        "        for i in range(1, len(pos_tags)):\n",
        "            prev_tag = pos_tags[i - 1]\n",
        "            current_tag = pos_tags[i]\n",
        "            pos_tag_counts[prev_tag][current_tag] += 1\n",
        "\n",
        "    # for each model, also store next mft\n",
        "    unigram = defaultdict(lambda: mft)\n",
        "    for prev_tag, next_tags in pos_tag_counts.items():\n",
        "        unigram[prev_tag] = max(next_tags, key=next_tags.get)\n",
        "\n",
        "    # evaluation\n",
        "    correct_predictions = 0\n",
        "    total_predictions = 0\n",
        "\n",
        "    for pos_tags in pos_test:\n",
        "        for i in range(1, len(pos_tags)):\n",
        "            prev_tag = pos_tags[i - 1]\n",
        "            actual_tag = pos_tags[i]\n",
        "            predicted_tag = unigram[prev_tag]\n",
        "            if predicted_tag == actual_tag:\n",
        "                correct_predictions += 1\n",
        "            total_predictions += 1\n",
        "\n",
        "    score = correct_predictions / total_predictions if total_predictions > 0 else 0\n",
        "\n",
        "    return score, unigram"
      ]
    },
    {
      "cell_type": "code",
      "execution_count": 44,
      "metadata": {
        "id": "HYVlekyJJu9u",
        "colab": {
          "base_uri": "https://localhost:8080/"
        },
        "outputId": "e00a59ef-c3c8-4ab5-856e-9b641f52b98c"
      },
      "outputs": [
        {
          "output_type": "stream",
          "name": "stdout",
          "text": [
            "unigram_score = 0.3153731968180261\n"
          ]
        }
      ],
      "source": [
        "# TEST c3.3\n",
        "# testing the function on the sample input\n",
        "unigram_score, unigram = unigram_baseline(sentences[:24_000], postags[:24_000], sentences[24_000:], postags[24_000:])\n",
        "print(f\"unigram_score = {unigram_score}\")\n",
        "\n",
        "assert unigram_score > 0.30"
      ]
    },
    {
      "cell_type": "code",
      "execution_count": 45,
      "metadata": {
        "id": "6Tu7VQ0tEYCc"
      },
      "outputs": [],
      "source": [
        "del mft_score, mft, unigram_score, unigram"
      ]
    },
    {
      "cell_type": "markdown",
      "metadata": {
        "id": "4z2zHSseRL6t"
      },
      "source": [
        "### Tensorizing sentences\n",
        "Next, we need to convert our data to numeric form. We will convert sentences to their tensor format, as done earlier.\n",
        "\n",
        "<div class=\"alert alert-block alert-info\">\n",
        "<b>Important!</b>\n",
        "Since the sentences are pre-tokenized with whitespace (e.g., <code>One , two , and three .</code> instead of <code>One, two, and three.</code>), we need to change the processing call to ensure the output vectors are aligned with our tokenization (otherwise SpaCy will tokenize it in its own way and might break the correspondence between tokens and POS tags).\n",
        "</div>"
      ]
    },
    {
      "cell_type": "code",
      "execution_count": 46,
      "metadata": {
        "id": "6dvDLY0-RL6u",
        "colab": {
          "base_uri": "https://localhost:8080/"
        },
        "outputId": "60589920-d62f-4c49-a5a5-cacca78d76ac"
      },
      "outputs": [
        {
          "output_type": "stream",
          "name": "stdout",
          "text": [
            "torch.Size([5, 300])\n"
          ]
        }
      ],
      "source": [
        "docs = [ spacy.tokens.doc.Doc(nlp.vocab, words=sentence.split()) for sentence in sentences ]\n",
        "\n",
        "doc_vectors = [ np.array([word.vector for word in doc]) for doc in docs ]\n",
        "doc_tensors = [ torch.tensor(sentence_vectors) for sentence_vectors in doc_vectors ]\n",
        "\n",
        "print(doc_tensors[1].shape)"
      ]
    },
    {
      "cell_type": "markdown",
      "metadata": {
        "id": "Lpryqcr0RL6u"
      },
      "source": [
        "Similarly, we will use pos_to_int to convert the POS sequences into tensors."
      ]
    },
    {
      "cell_type": "code",
      "execution_count": 47,
      "metadata": {
        "id": "kk6HyaPnRL6u",
        "colab": {
          "base_uri": "https://localhost:8080/"
        },
        "outputId": "a45c29e7-ccd2-4483-fe27-22071e6208d3"
      },
      "outputs": [
        {
          "output_type": "stream",
          "name": "stdout",
          "text": [
            "torch.Size([5])\n",
            "tensor([12, 12, 26, 12, 14])\n"
          ]
        }
      ],
      "source": [
        "pos_numeric = [ np.array([pos_to_int[pos] for pos in pos_sequence]) for pos_sequence in postags ]\n",
        "pos_tensors =  [ torch.tensor(pos_num_sequence) for pos_num_sequence in pos_numeric ]\n",
        "\n",
        "print(pos_tensors[1].shape)\n",
        "print(pos_tensors[1])"
      ]
    },
    {
      "cell_type": "code",
      "execution_count": 48,
      "metadata": {
        "id": "o4aSD7AHRL6u"
      },
      "outputs": [],
      "source": [
        "del doc_vectors, docs, pos_numeric"
      ]
    },
    {
      "cell_type": "markdown",
      "metadata": {
        "id": "JqT06ZfZRL6v"
      },
      "source": [
        "Finally, we also need to prepare for our task, which is **predicting** the POS tag. Right now, each element in doc\\_tensors is a 2-dimensional tensor with rows corresponding to the vectors of the words in a sentence, and each element in pos\\_tensors is a one-dimensional tensor with components representing the indices of the POS tag of the words. If we used these data for our model as it is, the model would not predict a tag based on the preceding words, but it would do a simple sequence POS-tag labelling (see Jurafsky and Martin [Chapter 8](https://web.stanford.edu/~jurafsky/slp3/8.pdf) for sequence labelling).\n",
        "\n",
        "What we need instead is that the tensor elements of `doc_tensors` start their rows at the first word but ends at the last but one word (because the last word triggers no prediction). Conversely, the output tensor elements of `pos_tensors` should only start at the tag of the second word and go to the end (the first word will create the first context for predictions about the POS tag of the second word, words 1 and 2 will be the context to predict the POS tag of the third word etc.).\n",
        "\n",
        "In a nutshell, to model POS tagging of upcoming words, we will use sequence labeling (like the standard POS tagging does), but the left-hand side context needs to exclude the upcoming word $w_t$ when predicting a POS tag $p_t$."
      ]
    },
    {
      "cell_type": "markdown",
      "metadata": {
        "id": "am5KBVgrRL6v"
      },
      "source": [
        "#### TASK 4\n",
        "\n",
        "Create new lists, doc\\_tensors\\_predict and pos\\_tensors\\_predict, which will have the information as is described in the paragraph above."
      ]
    },
    {
      "cell_type": "code",
      "execution_count": 49,
      "metadata": {
        "id": "yZmN3HpBRL6v"
      },
      "outputs": [],
      "source": [
        "# @title c4.1 [1pt]\n",
        "\n",
        "# Modifying vectors for the prediction task.\n",
        "doc_tensors_predict = [tensor[:-1] for tensor in doc_tensors]\n",
        "pos_tensors_predict = [tensor[1:] for tensor in pos_tensors]\n",
        "\n",
        "# YOUR CODE HERE"
      ]
    },
    {
      "cell_type": "code",
      "execution_count": 50,
      "metadata": {
        "id": "R84X_zwoRL6v"
      },
      "outputs": [],
      "source": [
        "# TEST c4.1\n",
        "# the following tests establish that doc_tensor and doc_tensors_predict are related\n",
        "assert np.all(np.array(doc_tensors[0][43] == doc_tensors_predict[0][43]))\n",
        "assert doc_tensors[3].shape[0] == doc_tensors_predict[3].shape[0] + 1\n",
        "assert doc_tensors[3].shape[1] == doc_tensors_predict[3].shape[1]\n",
        "assert np.array(pos_tensors[2][-1] == pos_tensors_predict[2][-1])"
      ]
    },
    {
      "cell_type": "markdown",
      "metadata": {
        "id": "euD_sRqSRL6w"
      },
      "source": [
        "In the tutorial, we saw how to split our dataset into a training and a validation set.\n",
        "\n",
        "We will do the same here, splitting the sentences, POS tags and their corresponding tensors into a training and a validation set.  \n",
        "For the sake of determinism of the training, while splitting data, we set shuffling `random_state` to 42 and select 0.2 of the data for validation."
      ]
    },
    {
      "cell_type": "code",
      "execution_count": 51,
      "metadata": {
        "id": "6ceVTdneRL6w"
      },
      "outputs": [],
      "source": [
        "sentences_train, sentences_val, postags_train, postags_val, X_train, X_val, Y_train, Y_val \\\n",
        "    = train_test_split(sentences, postags, doc_tensors_predict, pos_tensors_predict, test_size=0.2, random_state=42)"
      ]
    },
    {
      "cell_type": "markdown",
      "metadata": {
        "id": "ckrQqjFNHkCt"
      },
      "source": [
        "After we have defined the training and validation sets, we can use the defined functions to calculate the scores of MFT and unigram baseline models."
      ]
    },
    {
      "cell_type": "code",
      "execution_count": 52,
      "metadata": {
        "id": "8vsM2XKFRL6x",
        "colab": {
          "base_uri": "https://localhost:8080/"
        },
        "outputId": "5ff01926-960a-46a2-9c60-a1ce43f8cbda"
      },
      "outputs": [
        {
          "output_type": "stream",
          "name": "stdout",
          "text": [
            "mft_score = 0.14045150489117786, where mft = NN\n"
          ]
        }
      ],
      "source": [
        "# MFT baseline\n",
        "mft_score, mft = mft_baseline(postags_train, postags_val)\n",
        "print(f\"mft_score = {mft_score}, where mft = {mft}\")"
      ]
    },
    {
      "cell_type": "code",
      "execution_count": 53,
      "metadata": {
        "id": "uM0lK9qaIX-S",
        "colab": {
          "base_uri": "https://localhost:8080/"
        },
        "outputId": "0ab49e32-f869-43dd-db86-3e969c77c5fb"
      },
      "outputs": [
        {
          "output_type": "stream",
          "name": "stdout",
          "text": [
            "unigram_score = 0.3128524131205813\n"
          ]
        }
      ],
      "source": [
        "# Unigram baseline\n",
        "unigram_score, unigram = unigram_baseline(sentences_train, postags_train, sentences_val, postags_val)\n",
        "print(f\"unigram_score = {unigram_score}\")"
      ]
    },
    {
      "cell_type": "markdown",
      "metadata": {
        "id": "h0oV9FuRRL6x"
      },
      "source": [
        "### Datasets and Padding\n",
        "\n",
        "Following along the tutorial, we will wrap our tensors into a `Dataset` ([link](https://pytorch.org/docs/stable/data.html#torch.utils.data.Dataset)) and a `DataLoader` ([link](https://pytorch.org/docs/stable/data.html#torch.utils.data.DataLoader)).\n",
        "\n",
        "Since our data are not Tensors but rather Lists of Tensors of uneven lengths, we need to write our own Dataset wrapper.\n",
        "The wrapper only needs to implement two functions; `__len__`, which expects no arguments and returns the number of samples in the dataset, and `__getitem__`, which accepts an index `idx` and returns the input-output pair `X[idx]`, `Y[idx]`.\n",
        "\n",
        "Similarly, the Dataloader needs to process the list of input-output pairs produced by the Dataset using `pad_sequence`, as seen earlier.\n",
        "\n",
        "We will fill in the code for `UnevenLengthDataset` class, implementing its two core functions.\n",
        "\n",
        "Then, we complete the function `pad_batch` which takes a list of (x$_i$, y$_i$) pairs and produces the pair of their paddings: (X, Y).\n",
        "\n",
        "Given the two, the `DataLoader` object can iterate over the Dataset yielding uniform batches ready to be consumed by an RNN."
      ]
    },
    {
      "cell_type": "code",
      "execution_count": 54,
      "metadata": {
        "id": "ygvKphINRL6x",
        "lines_to_next_cell": 1
      },
      "outputs": [],
      "source": [
        "class UnevenLengthDataset(Dataset):\n",
        "\n",
        "    def __init__(self, X: List[FloatTensor], Y: List[LongTensor]) -> None:\n",
        "        self.X = X\n",
        "        self.Y = Y\n",
        "        assert len(X) == len(Y), f\"different size of X {len(X)} and Y {len(Y)}\"\n",
        "\n",
        "    def __len__(self) -> int:\n",
        "        return len(self.X)\n",
        "\n",
        "    def __getitem__(self, idx: int) -> Tuple[FloatTensor, LongTensor]:\n",
        "        return self.X[idx], self.Y[idx]\n",
        "\n",
        "\n",
        "def pad_batch(batch: List[Tuple[FloatTensor, LongTensor]]) -> Tuple[FloatTensor, LongTensor]:\n",
        "    first_item_padded = pad_sequence([item[0] for item in batch])\n",
        "    second_item_padded = pad_sequence([item[1] for item in batch])\n",
        "    return first_item_padded, second_item_padded"
      ]
    },
    {
      "cell_type": "code",
      "execution_count": 55,
      "metadata": {
        "id": "PvFF3Cg_RL6y"
      },
      "outputs": [],
      "source": [
        "BATCH_SIZE = 32 # don't change this value\n",
        "\n",
        "train_dataset = UnevenLengthDataset(X_train, Y_train)\n",
        "train_dataloader = DataLoader(\n",
        "    train_dataset,\n",
        "    collate_fn=pad_batch,\n",
        "    shuffle=True, # data will be reshuffled at every epoch\n",
        "    batch_size=BATCH_SIZE\n",
        ")\n",
        "\n",
        "val_dataset = UnevenLengthDataset(X_val, Y_val)\n",
        "val_dataloader = DataLoader(\n",
        "    val_dataset,\n",
        "    collate_fn=pad_batch,\n",
        "    shuffle=False,\n",
        "    batch_size=BATCH_SIZE\n",
        ")"
      ]
    },
    {
      "cell_type": "markdown",
      "metadata": {
        "id": "5iUk215PRL6y"
      },
      "source": [
        "What does a batch look like, shape-wise? Get the first element of `train_dataloader` to find out.  \n",
        "Try to understand what each number in the shape means.  \n",
        "<font color=\"red\">_Hint_: 41 is the length of a sequence in the batch, but why 41?</font>"
      ]
    },
    {
      "cell_type": "code",
      "execution_count": 56,
      "metadata": {
        "id": "gbcfD_35RL6y",
        "lines_to_next_cell": 1,
        "colab": {
          "base_uri": "https://localhost:8080/"
        },
        "outputId": "c0db868d-7018-478f-86dc-af9d3bc02230"
      },
      "outputs": [
        {
          "output_type": "stream",
          "name": "stdout",
          "text": [
            "torch.Size([41, 32, 300])\n",
            "torch.Size([41, 32])\n"
          ]
        }
      ],
      "source": [
        "# without the seed, every time you run this cell, it will give a random batch\n",
        "torch.manual_seed(0)\n",
        "for batch_x, batch_y in train_dataloader:\n",
        "    print(batch_x.shape)\n",
        "    print(batch_y.shape)\n",
        "    break"
      ]
    },
    {
      "cell_type": "code",
      "execution_count": 57,
      "metadata": {
        "id": "v4T9Mkh-Ezp3"
      },
      "outputs": [],
      "source": [
        "del batch_x, batch_y"
      ]
    },
    {
      "cell_type": "markdown",
      "metadata": {
        "id": "XMrgbE4zRL6y"
      },
      "source": [
        "### Utility functions\n",
        "\n",
        "Remember how we defined our training and validation functions in the torch intro notebook?\n",
        "\n",
        "You will need to do the same here.\n",
        "Note that while you can use the code from the tutorial for guidance, just copying it won't do the trick; unlike a feedforward net, a recurrent network produces a 3rd order output tensor of shape (max_seq_len, batch_size, num_output_classes).\n",
        "\n",
        "Similarly, our target Y is a 2nd order tensor of shape (max_seq_len, batch_size).\n",
        "\n",
        "You will need to properly treat the extra dimension of both the output and the target, since loss functions expect an order 2 output tensor and an order 1 target tensor.\n",
        "\n",
        "The functions `accuracy` and `measure_accurace`, which will be needed during evaluation, are already provided to you."
      ]
    },
    {
      "cell_type": "code",
      "execution_count": 58,
      "metadata": {
        "id": "MFlBSgJCRL6z",
        "lines_to_next_cell": 1
      },
      "outputs": [],
      "source": [
        "def accuracy(predictions: LongTensor, truth: LongTensor, ignore_idx: int) -> Tuple[int, int]:\n",
        "    \"\"\"\n",
        "    Compute the total count of non-ignored values and total count of correctly predicted values.\n",
        "\n",
        "    :param predictions: the network's predictions\n",
        "    :param truth: the true output labels\n",
        "    :param ignore_idx: the output padding value, to be ignored in accuracy calculation\n",
        "    :return the total count of non-ignored values, the total count of correctly predicted values\n",
        "    \"\"\"\n",
        "    correct_words = torch.ones(predictions.size())\n",
        "    # Zero out the incorrectly predicted values.\n",
        "    correct_words[predictions != truth] = 0\n",
        "    # Mark with 1 the values that need to be ignored.\n",
        "    correct_words[truth == ignore_idx] = 1\n",
        "    # Calculate the total count of correctly predicted values, incl. the ignored ones.\n",
        "    num_correct_words = correct_words.sum().item()\n",
        "    # Calculate the number of the values to be ignored.\n",
        "    num_masked_words = len(truth[truth == ignore_idx])\n",
        "    #\n",
        "    count_non_ignored = predictions.shape[0] * predictions.shape[1] - num_masked_words\n",
        "    count_correct = num_correct_words - num_masked_words\n",
        "    return count_non_ignored, count_correct\n",
        "\n",
        "\n",
        "def measure_accuracy(network: torch.nn.Module, dataloader: DataLoader, device: str) -> float:\n",
        "    \"\"\"\n",
        "    Compute the network's accuracy across all batches.\n",
        "\n",
        "    :param network: the trained network\n",
        "    :param dataloader: the dataloader for the validation data\n",
        "    :param device: the device to store the data on (\"cpu\" or \"cuda\")\n",
        "    :return the network's accuracy\n",
        "    \"\"\"\n",
        "    correct = 0\n",
        "    total = 0\n",
        "    # Iterate over the batches.\n",
        "    for x_batch, y_batch in dataloader:\n",
        "        # Get the network predictions.\n",
        "        pred = network(x_batch.to(device))\n",
        "        # Compute the values to measure accuracy for the current batch.\n",
        "        # note that pos tags are mapped to numbers 1..48 and we can safely use 0 for making dummy padding slots\n",
        "        local_total, local_correct = accuracy(pred.argmax(dim=-1), y_batch.to(device), ignore_idx=0)\n",
        "        # Update the total counts.\n",
        "        correct += local_correct\n",
        "        total += local_total\n",
        "    # Compute the final accuracy across all batches.\n",
        "    acc = correct/total\n",
        "    return acc"
      ]
    },
    {
      "cell_type": "code",
      "execution_count": 59,
      "metadata": {
        "id": "wpWoJrI4RL6z",
        "lines_to_next_cell": 1,
        "colab": {
          "base_uri": "https://localhost:8080/"
        },
        "outputId": "a6d4288d-f0d1-4af4-e5aa-7c4d4ef27b7e"
      },
      "outputs": [
        {
          "output_type": "stream",
          "name": "stdout",
          "text": [
            "(5, 3.0)\n",
            "(8, 6.0)\n"
          ]
        }
      ],
      "source": [
        "# If you want to understand how accuracy works, you can verify these toy input/output pairs\n",
        "print(accuracy(LongTensor([[1,2,0,0], [3,4,5,0]]), LongTensor([[1,3,0,0], [1,4,5,0]]), ignore_idx=0))\n",
        "print(accuracy(LongTensor([[1,2,0,0], [3,4,5,0]]), LongTensor([[1,3,0,0], [1,4,5,0]]), ignore_idx=9))"
      ]
    },
    {
      "cell_type": "markdown",
      "metadata": {
        "id": "e35TY8s2RL6z"
      },
      "source": [
        "#### TASK 5\n",
        "\n",
        "Complete the functions `train_batch`, `train_epoch`, `eval_batch` and `eval_epoch`."
      ]
    },
    {
      "cell_type": "code",
      "execution_count": 71,
      "metadata": {
        "id": "CAODtkBQRL60",
        "lines_to_next_cell": 1
      },
      "outputs": [],
      "source": [
        "# @title c5 [3pt]\n",
        "\n",
        "def train_batch(\n",
        "    network: torch.nn.Module,\n",
        "    X_batch: FloatTensor,\n",
        "    Y_batch: LongTensor,\n",
        "    loss_fn: Callable[[FloatTensor, FloatTensor], FloatTensor],\n",
        "    optimizer: torch.optim.Optimizer\n",
        ") -> float: #batch-specific loss\n",
        "    network.train()\n",
        "    optimizer.zero_grad()\n",
        "    predictions = network(X_batch)\n",
        "    loss = loss_fn(predictions.view(-1, predictions.shape[-1]), Y_batch.view(-1))\n",
        "    loss.backward()\n",
        "    optimizer.step()\n",
        "    return loss.item()\n",
        "\n",
        "def train_epoch(\n",
        "    network: torch.nn.Module,\n",
        "    dataloader: DataLoader,\n",
        "    loss_fn: Callable[[FloatTensor, FloatTensor], FloatTensor],\n",
        "    optimizer: torch.optim.Optimizer,\n",
        "    device: str\n",
        ") -> float: #epoch's loss\n",
        "    tloss = 0.0\n",
        "    for x_batch, y_batch in dataloader:\n",
        "        tloss += train_batch(network, x_batch.to(device), y_batch.to(device), loss_fn, optimizer)\n",
        "    return tloss/len(dataloader)\n",
        "\n",
        "def eval_batch(\n",
        "    network: torch.nn.Module,\n",
        "    X_batch: FloatTensor,\n",
        "    Y_batch: LongTensor,\n",
        "    loss_fn: Callable[[FloatTensor, LongTensor], FloatTensor]\n",
        ") -> float: #batch-specific loss\n",
        "    network.eval()\n",
        "    with torch.no_grad():\n",
        "        predictions = network(X_batch)\n",
        "        loss = loss_fn(predictions.view(-1, predictions.shape[-1]), Y_batch.view(-1))\n",
        "    return loss.item()\n",
        "\n",
        "\n",
        "def eval_epoch(\n",
        "    network: torch.nn.Module,\n",
        "    dataloader: DataLoader,\n",
        "    loss_fn: Callable[[FloatTensor, LongTensor], FloatTensor],\n",
        "    device: str\n",
        ") -> float: #epoch's loss\n",
        "    tloss= 0.0\n",
        "    for X_batch, Y_batch in dataloader:\n",
        "        tloss += eval_batch(network, X_batch.to(device), Y_batch.to(device), loss_fn)\n",
        "    return tloss/len(dataloader)"
      ]
    },
    {
      "cell_type": "markdown",
      "metadata": {
        "id": "shiaeNJ7RL60"
      },
      "source": [
        "### Training your SRN model"
      ]
    },
    {
      "cell_type": "markdown",
      "metadata": {
        "id": "aKIT8AaERL60"
      },
      "source": [
        "#### TASK 6\n",
        "\n",
        "Complete `training_model` function that defines a simple recurrent network, trains it on the raining set and evaluates on the validation set.\n",
        "\n",
        "In the body of the function, define a simple recurrent network, with input size compatible with the vector dimensionality, output size compatible with the number of output classes (the number of different POS tags + 1 due to using 0 as padding in pos tag annotations) and a pre-defined hidden size. Don't forget to use `FastSRN` which was defined previously.\n",
        "\n",
        "<ins>Choose an appropriate combination of output activation and loss function</ins> (consider the task at hand and refer to the documentation or the tutorial/warm-up notebook if in doubt).\n",
        "\n",
        "Then instantiate an optimizer over your network and train the network for a specified number of epochs, measuring and printing all four metrics at the end of each epoch: for train and validation sets, loss and accuracy values.\n",
        "\n",
        "<font color=\"red\">_Hint_: Use `measure_accuracy` (defined earlier) to obtain accuracy. For the debugging you can try shorter hidden vectors and a single epoch."
      ]
    },
    {
      "cell_type": "code",
      "execution_count": 87,
      "metadata": {
        "id": "psZY9rdGea1s"
      },
      "outputs": [],
      "source": [
        "# @title c6.1 [4pt]\n",
        "def training_model(nn_unit, num_epochs: int, hidden_dim: int=512,\n",
        "                   num_layers: int=1, device: str='cpu', seed: int=0) -> tuple:\n",
        "    \"\"\"\n",
        "    The code to train the model.\n",
        "    model is an object of torch.nn.Module, for example, srn.\n",
        "    num_epochs specifies how many epochs should be used for training\n",
        "    The function should train the model for the specified number of epochs.\n",
        "    It returns: train_losses (as a list), validation losses (as a list), train accuracies (as a list) and validation accuracies (as a list)\n",
        "    \"\"\"\n",
        "    train_losses, val_losses, train_accuracies, val_accuracies = [], [], [], []\n",
        "\n",
        "    i= 300\n",
        "    h = hidden_dim\n",
        "    o= len(pos_to_int) + 1\n",
        "    output_activation = torch.nn.LogSoftmax(dim=-1)\n",
        "\n",
        "    srn = nn_unit(\n",
        "        input_dim=i,\n",
        "        hidden_dim=h,\n",
        "        output_dim=o,\n",
        "        output_activation=output_activation,\n",
        "        num_layers=num_layers,\n",
        "        device=device,\n",
        "        seed=seed)\n",
        "\n",
        "    srn.to(device)\n",
        "\n",
        "    opt = torch.optim.Adam(srn.parameters(), lr=0.001)\n",
        "    loss_fn = torch.nn.NLLLoss(ignore_index=0) # choice depends on the output_activation value of FastSRN\n",
        "\n",
        "    torch.manual_seed(seed)\n",
        "\n",
        "    for t in range(num_epochs):\n",
        "\n",
        "        train_loss = train_epoch(srn, train_dataloader, loss_fn, opt, device)\n",
        "        val_loss = eval_epoch(srn, val_dataloader, loss_fn, device)\n",
        "        train_acc = measure_accuracy(srn, train_dataloader, device)\n",
        "        val_acc = measure_accuracy(srn, val_dataloader, device)\n",
        "\n",
        "        print(f\"Epoch {t}\")\n",
        "        print(f\"\\tTraining / Validation Loss:     {train_loss} / {val_loss}\")\n",
        "        print(f\"\\tTraining / Validation Accuracy: {train_acc} / {val_acc}\")\n",
        "\n",
        "        train_losses.append(train_loss)\n",
        "        val_losses.append(val_loss)\n",
        "        train_accuracies.append(train_acc)\n",
        "        val_accuracies.append(val_acc)\n",
        "\n",
        "\n",
        "    return srn, train_losses, val_losses, train_accuracies, val_accuracies"
      ]
    },
    {
      "cell_type": "code",
      "execution_count": 88,
      "metadata": {
        "id": "niNIqTX_NeTC",
        "colab": {
          "base_uri": "https://localhost:8080/"
        },
        "outputId": "2b8f8ca8-2a23-4ec2-d6cb-7f0ba6ddeb16"
      },
      "outputs": [
        {
          "output_type": "stream",
          "name": "stdout",
          "text": [
            "Epoch 0\n",
            "\tTraining / Validation Loss:     2.0013376207541156 / 1.8997151700277177\n",
            "\tTraining / Validation Accuracy: 0.4323566182215971 / 0.4225890420654456\n",
            "Epoch 1\n",
            "\tTraining / Validation Loss:     1.8487304264346496 / 1.8552978883975397\n",
            "\tTraining / Validation Accuracy: 0.44899007657446477 / 0.43380334856360936\n",
            "Epoch 2\n",
            "\tTraining / Validation Loss:     1.7945617071050681 / 1.8285187817124462\n",
            "\tTraining / Validation Accuracy: 0.45960696983903737 / 0.44127431011568197\n",
            "Epoch 3\n",
            "\tTraining / Validation Loss:     1.7582188776786754 / 1.8200163178973727\n",
            "\tTraining / Validation Accuracy: 0.46733473980309426 / 0.44550523360517147\n",
            "Epoch 4\n",
            "\tTraining / Validation Loss:     1.7316292401181153 / 1.8104216453259585\n",
            "\tTraining / Validation Accuracy: 0.47143303641193934 / 0.4446244465590324\n",
            "Epoch 5\n",
            "\tTraining / Validation Loss:     1.7074081147743376 / 1.8117156747787717\n",
            "\tTraining / Validation Accuracy: 0.4769964056883888 / 0.4453400860340204\n",
            "Epoch 6\n",
            "\tTraining / Validation Loss:     1.6878316001386833 / 1.8020183522865254\n",
            "\tTraining / Validation Accuracy: 0.48449171745585246 / 0.45017655061773054\n",
            "Epoch 7\n",
            "\tTraining / Validation Loss:     1.6712108029435013 / 1.8093249722132607\n",
            "\tTraining / Validation Accuracy: 0.4873320050007814 / 0.447589238669697\n",
            "Epoch 8\n",
            "\tTraining / Validation Loss:     1.654844547739092 / 1.8007655162659904\n",
            "\tTraining / Validation Accuracy: 0.4923796686982341 / 0.45170219960836433\n",
            "Epoch 9\n",
            "\tTraining / Validation Loss:     1.639482500537342 / 1.8018286493089464\n",
            "\tTraining / Validation Accuracy: 0.4972827785591499 / 0.45092364677293784\n"
          ]
        }
      ],
      "source": [
        "# TEST c6.1\n",
        "srn, train_losses, val_losses, train_accuracies, val_accuracies = \\\n",
        "    training_model(FastSRN, 10, device=DEVICE) # feel free to change device value\n",
        "# Don't clear the output of this cell!"
      ]
    },
    {
      "cell_type": "markdown",
      "metadata": {
        "id": "0x_QAvaMzC2d"
      },
      "source": [
        "Plot the loss and accuracy curves for the training and validation sets. Set the x-axis for epoch number and y-axis for loss/accuracy values. Do this with the help of `plot_loss_accuracy` function. It is a good idea to wrap the plotting in a function as we will use it later too."
      ]
    },
    {
      "cell_type": "code",
      "execution_count": 89,
      "metadata": {
        "id": "csn1K--HRL62",
        "lines_to_next_cell": 1
      },
      "outputs": [],
      "source": [
        "# @title c6.2 [1pt]\n",
        "# Your loss plotting here: x-axis for epochs and y-axis for train and validation losses\n",
        "\n",
        "def plot_loss_accuracy(train_losses: List[float], val_losses: List[float],\n",
        "                       train_accuracies: List[float], val_accuracies: List[float],\n",
        "                       baseline_accuracy: int) -> None:\n",
        "    \"\"\"\n",
        "    Display two plots, one for the loss curves for the training and validation sets\n",
        "    and the other for the accuracy curves.\n",
        "    (!) Mark the baseline accuracy as a horizontal line.\n",
        "    The function returns nothing, but displays the plots.\n",
        "    \"\"\"\n",
        "    epochs = range(1, len(train_losses) + 1)\n",
        "\n",
        "    fig, (ax1, ax2) = plt.subplots(1, 2, figsize=(14, 6))\n",
        "\n",
        "    ax1.plot(epochs, train_losses, label=\"Training Loss\", color='blue', marker='o')\n",
        "    ax1.plot(epochs, val_losses, label=\"Validation Loss\", color='orange', marker='o')\n",
        "    ax1.set_title(\"Loss Over Epochs\")\n",
        "    ax1.set_xlabel(\"Epochs\")\n",
        "    ax1.set_ylabel(\"Loss\")\n",
        "    ax1.legend()\n",
        "\n",
        "    ax2.plot(epochs, train_accuracies, label=\"Training Accuracy\", color='green', marker='o')\n",
        "    ax2.plot(epochs, val_accuracies, label=\"Validation Accuracy\", color='red', marker='o')\n",
        "    ax2.axhline(y=baseline_accuracy, color='purple', linestyle='--', label=\"Baseline Accuracy\")\n",
        "    ax2.set_title(\"Accuracy Over Epochs\")\n",
        "    ax2.set_xlabel(\"Epochs\")\n",
        "    ax2.set_ylabel(\"Accuracy\")\n",
        "    ax2.legend()\n",
        "\n",
        "    plt.tight_layout()\n",
        "    plt.show()"
      ]
    },
    {
      "cell_type": "code",
      "execution_count": 90,
      "metadata": {
        "id": "aRUWcCzefUOS",
        "colab": {
          "base_uri": "https://localhost:8080/",
          "height": 576
        },
        "outputId": "7e412049-e5a7-42bf-bc9b-6ad17e34d17f"
      },
      "outputs": [
        {
          "output_type": "display_data",
          "data": {
            "text/plain": [
              "<Figure size 1400x600 with 2 Axes>"
            ],
            "image/png": "[encoded data removed]"
          },
          "metadata": {}
        }
      ],
      "source": [
        "# TEST c6.2\n",
        "plot_loss_accuracy(train_losses, val_losses, train_accuracies, val_accuracies,\n",
        "                   unigram_score)\n",
        "# Don't clear the output of this cell!"
      ]
    },
    {
      "cell_type": "markdown",
      "metadata": {
        "id": "Zsa5NUK3RL62"
      },
      "source": [
        "##### i6.3 [2pt]\n",
        "\n",
        "You should get accuracy above the baseline models discussed in Section 3 and 4. If your accuracy is lower than that, something is wrong.\n",
        "\n",
        "However, even though you beat the baseline model, you probably noticed that the accuracy is not very high. Most likely, it is below 50 percent on the validation set. Yet, POS tagging is basically a solved task nowadays - POS taggers usually have accuracy around 98 or 99 percent. Why is it that this model has a much lower accuracy? Say in a few sentences why."
      ]
    },
    {
      "cell_type": "markdown",
      "metadata": {
        "id": "mPgu9zikejol"
      },
      "source": [
        "**ANSWER**:\n",
        "The reason state-of-the-art POS taggers achieve accuracies of around 98 to 99 percent, while our RNN model struggles, is because for succesful POS tagging, it is important for a model to capture long term dependencies in sequences. The POS tag of a word can be influenced by other words that are either close or far away in the sequence. Therefore, successful POS tagging requires a model capable of effectively handling these long dependencies and contexts. This introduces an issue for a simple RNN: due to its architecture, it struggles with the **vanishing gradient problem** (exponential decay of gradient weights), which limits the RNN’s ability to succesfully use dependency relationships over longer sequence distances. As a result, a simple RNN model, like one we designed for this assignment, is inherently limited compared to state-of-the-art POS taggers, which use more advanced architectures.\n"
      ]
    },
    {
      "cell_type": "markdown",
      "metadata": {
        "id": "MC-am5sJRL62"
      },
      "source": [
        "### LSTM\n",
        "\n",
        "So far, we only worked with a simple recurrent neural network (which only had a single hidden layer). There are, however, many other more elaborated recurrent neural networks. One such recurrent neural network is LSTM (long short-term memory), which was developed mainly to battle one issue that simple RNNs battle with: the fact that gradient tends to vanish, making it hard for simple RNNs to update its weights across long sequences."
      ]
    },
    {
      "cell_type": "markdown",
      "metadata": {
        "id": "QomW1ZbFRL62"
      },
      "source": [
        "#### TASK 7\n",
        "\n",
        "Implement an LSTM model. For this task, you can use the class `torch.nn.LSTM`. Before the implementation, make sure to check more details on ([link](https://pytorch.org/docs/stable/generated/torch.nn.LSTM.html)). A few more notes: the code for your class should be similar to `FastSRN` but there is no specification for `hidden_activation` because activation across layers is already specified in the pytorch class. Second, make sure that you are using the unidirectional LSTM (if you used the bidirectional one, you would be predicting a POS tag based on preceding and following words, which is not what we want)."
      ]
    },
    {
      "cell_type": "code",
      "execution_count": 91,
      "metadata": {
        "id": "Vbzvvxf_RL63",
        "lines_to_next_cell": 1
      },
      "outputs": [],
      "source": [
        "# @title c7.1 [1pt]\n",
        "\n",
        "class LSTMPredTag(torch.nn.Module):\n",
        "    \"\"\"\n",
        "    LSTM module for predictions of POS tags using LSTM class in torch.\n",
        "    \"\"\"\n",
        "\n",
        "    def __init__(\n",
        "        self,\n",
        "        input_dim: int,\n",
        "        hidden_dim: int,\n",
        "        output_dim: int,\n",
        "        output_activation: Callable[[FloatTensor], FloatTensor],\n",
        "        num_layers: int = 1,\n",
        "        device: str = 'cpu',\n",
        "        seed: int = 42\n",
        "    ) -> None:\n",
        "        super().__init__()\n",
        "        self.device = device\n",
        "        torch.manual_seed(seed)\n",
        "\n",
        "        self.lstm = torch.nn.LSTM(input_size=input_dim,\n",
        "                                  hidden_size=hidden_dim,\n",
        "                                  num_layers=num_layers)\n",
        "\n",
        "        self.h_to_y = torch.nn.Linear(hidden_dim, output_dim, bias=True)\n",
        "\n",
        "        self.output_activation = output_activation\n",
        "\n",
        "    def forward(self, X:FloatTensor, hprev: Optional[FloatTensor]=None) -> FloatTensor:\n",
        "        \"\"\"\n",
        "        forward accepts a List of inputs X, an initial hidden vector hprev (h_{t−1}) and iteratively applies step until the input sequence is exhausted, returning a List of outputs Y (of the same length as X).\n",
        "        \"\"\"\n",
        "        lstm_out, _ = self.lstm(X, hprev)\n",
        "        Y = self.h_to_y(lstm_out)\n",
        "\n",
        "        # Apply output activation function\n",
        "        if self.output_activation:\n",
        "            Y = self.output_activation(Y)\n",
        "\n",
        "        return Y"
      ]
    },
    {
      "cell_type": "markdown",
      "metadata": {
        "id": "zFzuFikrRL63"
      },
      "source": [
        "Now, you can proceeed in the same way as with your RNN model.  \n",
        "Note that the arguments of `training_model` function was selected in such a way that the function can also accept `LSTMPredTag` and train LSTM."
      ]
    },
    {
      "cell_type": "code",
      "execution_count": 92,
      "metadata": {
        "id": "bWKRZwvARL64",
        "colab": {
          "base_uri": "https://localhost:8080/"
        },
        "outputId": "9dcb42a1-f7d7-42e4-e953-db07402d6892"
      },
      "outputs": [
        {
          "output_type": "stream",
          "name": "stdout",
          "text": [
            "Epoch 0\n",
            "\tTraining / Validation Loss:     1.920680460393034 / 1.7971304226173925\n",
            "\tTraining / Validation Accuracy: 0.46621933114549147 / 0.45104160932376003\n",
            "Epoch 1\n",
            "\tTraining / Validation Loss:     1.7224375843212305 / 1.7378307278194125\n",
            "\tTraining / Validation Accuracy: 0.4958782622284732 / 0.46665985105261915\n",
            "Epoch 2\n",
            "\tTraining / Validation Loss:     1.6393600141765265 / 1.7104482625527357\n",
            "\tTraining / Validation Accuracy: 0.5166080637599625 / 0.4756328690851611\n",
            "Epoch 3\n",
            "\tTraining / Validation Loss:     1.5726056743141832 / 1.7007935375132888\n",
            "\tTraining / Validation Accuracy: 0.5334134239724957 / 0.47738657900738446\n",
            "Epoch 4\n",
            "\tTraining / Validation Loss:     1.513311479739006 / 1.7005889415740967\n",
            "\tTraining / Validation Accuracy: 0.5508829504610095 / 0.48075244379084453\n",
            "Epoch 5\n",
            "\tTraining / Validation Loss:     1.457820209130546 / 1.7047807678343758\n",
            "\tTraining / Validation Accuracy: 0.5696808095014846 / 0.48057943204963866\n",
            "Epoch 6\n",
            "\tTraining / Validation Loss:     1.4051574637558286 / 1.7199466260021956\n",
            "\tTraining / Validation Accuracy: 0.5839408501328333 / 0.47916388143977223\n",
            "Epoch 7\n",
            "\tTraining / Validation Loss:     1.3525102999036676 / 1.73897900720122\n",
            "\tTraining / Validation Accuracy: 0.6015686044694484 / 0.47848756281505833\n",
            "Epoch 8\n",
            "\tTraining / Validation Loss:     1.3027439231114673 / 1.7602620862779164\n",
            "\tTraining / Validation Accuracy: 0.6185517268323175 / 0.47568005410548997\n",
            "Epoch 9\n",
            "\tTraining / Validation Loss:     1.252721595448374 / 1.7884370359794173\n",
            "\tTraining / Validation Accuracy: 0.6324230348491952 / 0.4734623581500326\n"
          ]
        }
      ],
      "source": [
        "# TEST c7.1\n",
        "lstm, train_losses, val_losses, train_accuracies, val_accuracies = \\\n",
        "    training_model(LSTMPredTag, 10, device=DEVICE) # feel free to change device value\n",
        "# Don't clear the output of this cell!"
      ]
    },
    {
      "cell_type": "code",
      "execution_count": null,
      "metadata": {
        "id": "Jy9rLPzbRL66"
      },
      "outputs": [],
      "source": [
        "# Let's plot the scores using the previously defined function\n",
        "plot_loss_accuracy(train_losses, val_losses, train_accuracies, val_accuracies, unigram_score)\n",
        "# Don't clear the output of this cell!"
      ]
    },
    {
      "cell_type": "markdown",
      "metadata": {
        "id": "MVPxYTTqRL66"
      },
      "source": [
        "If everything is correct, your LSTM model should beat your SRN model on both training and validation datasets (probably more so on the former).\n",
        "\n",
        "By tweaking certain hyperparameters in the network and its training, we can get better performance on the validation set. Your task is to experiment with different values for hyperparameters that are supported by `training_model` function: neural newtork unit, hidden dimension, the number of hidden layers, and the nuber of epochs.  \n",
        "After finding the combination of values that gives the highest accuracy on the validation set, provide the values below.  \n",
        "Don't provide any code that you used to find the optimal combinatin of the values.  \n",
        "Run the cell below with the optimal argument values and keep the output and plot. The score of your best model will be defined as the accuracy score on the validation set after the final epoch training.\n",
        "\n",
        "Bonus points 5, 3, and 2 will be given to the groups whose best score will make to the top three.\n",
        "\n",
        "<font color=\"red\">**Just fill in the optimal values that you found, train the model and plot the scores!**</font> No need to submit any other code."
      ]
    },
    {
      "cell_type": "code",
      "execution_count": 96,
      "metadata": {
        "id": "YjBVspjse0MN",
        "colab": {
          "base_uri": "https://localhost:8080/"
        },
        "outputId": "2a4a39d4-47f9-432f-e6cf-28045dc13ffc"
      },
      "outputs": [
        {
          "output_type": "stream",
          "name": "stdout",
          "text": [
            "Epoch 0\n",
            "\tTraining / Validation Loss:     2.579294802810972 / 2.225085448966455\n",
            "\tTraining / Validation Accuracy: 0.35467651195499295 / 0.3510801437570286\n",
            "Epoch 1\n",
            "\tTraining / Validation Loss:     2.0942985158882395 / 2.0155521688007174\n",
            "\tTraining / Validation Accuracy: 0.41092553523988123 / 0.40108840113558614\n",
            "Epoch 2\n",
            "\tTraining / Validation Loss:     1.939713426931015 / 1.9290414159260099\n",
            "\tTraining / Validation Accuracy: 0.43709954680418817 / 0.42306089226873445\n",
            "Epoch 3\n",
            "\tTraining / Validation Loss:     1.8606984511116482 / 1.8819162359944097\n",
            "\tTraining / Validation Accuracy: 0.45406118143459917 / 0.43524249168364015\n",
            "Epoch 4\n",
            "\tTraining / Validation Loss:     1.8064985322636484 / 1.8520076224412867\n",
            "\tTraining / Validation Accuracy: 0.4691025941553368 / 0.4449154208510605\n",
            "The best performance accuracy = 0.4449154208510605\n"
          ]
        }
      ],
      "source": [
        "# @title c7.2 [*]\n",
        "# training teh best model\n",
        "best_model, train_losses, val_losses, train_accuracies, val_accuracies = \\\n",
        "    training_model(LSTMPredTag, # choose the network class\n",
        "                   num_epochs=5, # max 10\n",
        "                   hidden_dim=256, # whatever value you want\n",
        "                   num_layers=5, # you can also have as many hidden layers as you want\n",
        "                   device=DEVICE) # you should want gpu here\n",
        "print(f\"The best performance accuracy = {val_accuracies[-1]}\")\n",
        "# Don't clear the output of this cell!"
      ]
    },
    {
      "cell_type": "code",
      "execution_count": 97,
      "metadata": {
        "id": "Dk-teT6-gGyp",
        "colab": {
          "base_uri": "https://localhost:8080/",
          "height": 576
        },
        "outputId": "bc36051a-2655-4b4f-afef-3d844fe3a148"
      },
      "outputs": [
        {
          "output_type": "display_data",
          "data": {
            "text/plain": [
              "<Figure size 1400x600 with 2 Axes>"
            ],
            "image/png": "[encoded data removed]"
          },
          "metadata": {}
        }
      ],
      "source": [
        "plot_loss_accuracy(train_losses, val_losses, train_accuracies, val_accuracies, unigram_score)\n",
        "# Don't clear the output of this cell!"
      ]
    },
    {
      "cell_type": "markdown",
      "metadata": {
        "id": "cZhExpzzRL66"
      },
      "source": [
        "### Exploring the models\n",
        "\n",
        "We will now start exploring the models. We will start with the error analyis, in which we will find sentences from the validation set where the network predicted wrong POS tags."
      ]
    },
    {
      "cell_type": "markdown",
      "metadata": {
        "id": "YdFRYTz0RL66"
      },
      "source": [
        "#### TASK 8\n",
        "\n",
        "Complete the function `predict_and_contrast` that returns, for a list of sentences, a list of lists of (word, true_tag, predicted_tag) triplets when the prediction of the model does not correspond to the actual tag, and a tuple (word, true_tag) when the prediction is right. Note that for the first word in a sentence, the model makes no predictions - you can collect the first word along with `None` as its tag.\n",
        "\n",
        "Concretely, for `['John sleeps .']`, assuming the model predicts VBZ and IN, the output should be:  \n",
        "`[[('John', None), ('sleeps', 'VBZ'), ('.', '.', 'IN')]]`."
      ]
    },
    {
      "cell_type": "code",
      "execution_count": 98,
      "metadata": {
        "id": "YoakyPSnRL67",
        "lines_to_next_cell": 1
      },
      "outputs": [],
      "source": [
        "# @title c8.1 [3pt]\n",
        "\n",
        "def predict_and_contrast(nn: torch.nn.Module, sentences: list, tags: list, sent_vec: list, tag2idx: dict) -> list:\n",
        "    \"\"\"\n",
        "    :param nn: the network representing a POS tagger\n",
        "    :param sentences: the list of sentences\n",
        "    :param tags: a list of list of tags (aligned with sentences)\n",
        "    :param sent_vec: sentences with vectorized tokens\n",
        "    :param tag2idx: mapping of tags to indices\n",
        "    :param device: device for computation, defaults to the global DEVICE value\n",
        "    returns a list of sentences, where sentences are a list of tuples:\n",
        "        (token, tag) for correctly tagged tokens and\n",
        "        (token, reference_tag, predicted_tag) for wrongly tagged tokens\n",
        "    \"\"\"\n",
        "    int_to_pos = {v: k for k, v in tag2idx.items()}\n",
        "    int_to_pos[0] = 'None' # default None for index 0\n",
        "\n",
        "    all_predictions = []\n",
        "\n",
        "    nn.eval()\n",
        "    with torch.no_grad():\n",
        "        for i, (sentence, true_tags, vec) in enumerate(zip(sentences, tags, sent_vec)):\n",
        "            if len(sentence) == 0 or vec.size(0) == 0:\n",
        "                all_predictions.append([])\n",
        "                continue\n",
        "\n",
        "            sentence_result = []\n",
        "            vec = vec.to(DEVICE)\n",
        "\n",
        "            # get model predictions\n",
        "            predictions = nn(vec.unsqueeze(0))\n",
        "            predicted_tags = torch.argmax(predictions, dim=-1).squeeze(0)\n",
        "\n",
        "            words = sentence.split()\n",
        "\n",
        "            # iteration through words and sentences\n",
        "            for j, word in enumerate(words):\n",
        "                if j < len(true_tags):\n",
        "                    true_tag = true_tags[j]\n",
        "                    if j < len(predicted_tags):\n",
        "                        predicted_tag_idx = predicted_tags[j].item()\n",
        "                        predicted_tag = int_to_pos.get(predicted_tag_idx, 'None') #special case for None\n",
        "                        if true_tag == predicted_tag:\n",
        "                            sentence_result.append((word, true_tag))\n",
        "                        else:\n",
        "                            sentence_result.append((word, true_tag, predicted_tag))\n",
        "                    else:\n",
        "                        sentence_result.append((word, true_tag, None))\n",
        "\n",
        "            all_predictions.append(sentence_result)\n",
        "\n",
        "    return all_predictions"
      ]
    },
    {
      "cell_type": "code",
      "execution_count": 99,
      "metadata": {
        "id": "4-LJ59GleRN_"
      },
      "outputs": [],
      "source": [
        "# it is up to you which model to use here: srn, lstm, or best_model\n",
        "tok_gold_pred = predict_and_contrast(lstm, sentences_val, postags_val, X_val, pos_to_int)"
      ]
    },
    {
      "cell_type": "markdown",
      "metadata": {
        "id": "BnuNrIAvfw26"
      },
      "source": [
        "If you want to sanity check the implementation of the function. You could test whether you will get the same accuracy score from `tok_gold_pred` as the model got during the training-validation phase."
      ]
    },
    {
      "cell_type": "code",
      "execution_count": 100,
      "metadata": {
        "id": "utTIBR5LeXK3",
        "colab": {
          "base_uri": "https://localhost:8080/"
        },
        "outputId": "08f8e93e-0422-4e16-badc-8deebcecdf23"
      },
      "outputs": [
        {
          "output_type": "stream",
          "name": "stdout",
          "text": [
            "Mr.|NNP Melloan|NNP 's|POS|NN column|NN|IN was|VBD|DT right|RB on|IN|DT the|DT|NN money|NN|IN ,|,|IN but|CC|PRP I|PRP|VBP wish|VBP|PRP it|PRP|VBZ could|MD|VB have|VB|VBN gone|VBN|TO one|CD|IN step|NN|RP further|RBR|, .|.|None\n",
            "How|WRB|MD unprofessional|JJ|NNS we|PRP|VBP must|MD|VB have|VB|VBN appeared|VBN|TO to|TO|VB the|DT|NN outside|JJ|DT world|NN|RB --|IN|NNP how|WRB|RB incompetent|JJ|, at|IN|DT risk|NN|VBG assessment|NN|IN and|CC|NNP evaluation|NN|IN ,|,|IN he|PRP|VBZ says|VBZ|PRP .|.|None\n"
          ]
        }
      ],
      "source": [
        "# TEST c8.1\n",
        "# Don't clear the output of this cell!\n",
        "for s in tok_gold_pred[37:39]: # feel free to change the slice indices\n",
        "    print(' '.join([ f\"{t[0]}|{t[1]}\" if len(t) < 3 else f\"{t[0]}|{t[1]}|{t[2]}\" for t in s ]))\n",
        "    # we print just one tag when it is guessed correctly, two tags (true and predicted) when the model fails"
      ]
    },
    {
      "cell_type": "markdown",
      "metadata": {
        "id": "uHGxWzpSRL67"
      },
      "source": [
        "##### i8.2 [2pt]\n",
        "\n",
        "Among the examples printed by the above code cell, **find two examples** where the model successfully predicts the POS tag of an upcoming word and **two examples where it fails** to do so. All the examples could be from the same or different sentences.\n",
        "\n",
        "Describe what you observe for these cases. Does the model behave according to your intuitions? Does it get the prediction correct when it should be possible? Does it fail when it is hard to get the prediction right?"
      ]
    },
    {
      "cell_type": "markdown",
      "metadata": {
        "id": "iFIbI2hBc3XI"
      },
      "source": [
        "**ANSWER**:\n",
        "\n",
        "\n",
        "Two examples of where the model the predicts **succesfully**:\n",
        "\n",
        "1. Column (NN) - A noun that is straightforwardly used, it does not have another meaning. It's position in the sentence seems to be quite common and reads natural.\n",
        "2. Melloan (NNP) - This is part of a name (not another ambiguous meaning). It's preceded by Mr., which probably increases the model's confidence in another NNP to follow after 'Mr.' (this is quite a common way to start a name).\n",
        "\n",
        "Two examples of **failure**:\n",
        "\n",
        "1. 's (POS|NNP) - This hould have been tagged as possessive ending (POS), but got tagged as a proper noun. It could be that the model considered it likely to be a part of the NNPs before that.\n",
        "2. appeared (VBN|TO) - 'Appeared' should have been tagged as a verb past particle (VBN), but got tagged as to (TO). This makes sense, as the 'appeared' is precedented by have (a verb), which are quite likely to be followed by 'to'.\n",
        "\n",
        "Basic words in simple, shorter sentences seem to do relatively well. But as soon as there is ambiguity, or a word that can serve multiple roles, the model fails. While these are, of course, mistakes - the nature of these mistakes makes it easy to look at the mistakes and see why the model made them."
      ]
    },
    {
      "cell_type": "markdown",
      "metadata": {
        "id": "1KJVmPZnKcIE"
      },
      "source": [
        "Finally, find an answer to the following question regarding the validation set: which POS tag is most often correctly predicted? And which one is most often not predicted by the model?\n",
        "\n",
        "To get such tags, complete `tag_accuracy_cnt` function that takes predictions of the POS tags of an upcoming word and a cut-off value and returns a list of tuples of `('TAG', accuracy_score, number_of_occurrences_of_TAG)`. Note that `number_of_occurrences_of_TAG` should not be less than the cut-off value. The elements in the list are sorted in descending order of the accuracy score. The cut-off value helps to ignore rare POS tags that might be difficult/easy to predict because of their infrequency."
      ]
    },
    {
      "cell_type": "code",
      "execution_count": 101,
      "metadata": {
        "id": "5rJqKIZDKcIE"
      },
      "outputs": [],
      "source": [
        "# @title c8.3 [3pt]\n",
        "\n",
        "def tag_accuracy_cnt(tok_gold_predictions: List[tuple], freq_cut_off: int=100) -> List[tuple]:\n",
        "    \"\"\"\n",
        "    :param tok_gold_predictions: a list of sentences, where sentences are a list of tuples:\n",
        "        (token, tag) for correctly tagged tokens and\n",
        "        (token, reference_tag, predicted_tag) for wrongly tagged tokens\n",
        "    :param freq_cut_off: to ignore tags that are occurring less frequently\n",
        "    returns a list of tuples of (tag, tag_specific_accuracy_score, number_of_occurrences_of_tag)\n",
        "    the list is sorted in descending order of the accuracy score\n",
        "    \"\"\"\n",
        "    tag_correct = {}\n",
        "    tag_total = {}\n",
        "\n",
        "    # correct occurences per tag\n",
        "    for sentence in tok_gold_predictions:\n",
        "        for item in sentence:\n",
        "            # correct (word+tag)\n",
        "            if len(item) == 2:\n",
        "                _, tag = item\n",
        "                tag_correct[tag] = tag_correct.get(tag, 0) + 1\n",
        "                tag_total[tag] = tag_total.get(tag, 0) + 1\n",
        "            # incorrect (word+tag+tag)\n",
        "            elif len(item) == 3:\n",
        "                _, true_tag, _ = item\n",
        "                tag_total[true_tag] = tag_total.get(true_tag, 0) + 1\n",
        "\n",
        "    # accuracy cut-off\n",
        "    tag_accuracy = []\n",
        "    for tag, total in tag_total.items():\n",
        "        if total >= freq_cut_off:\n",
        "            accuracy = tag_correct.get(tag, 0) / total\n",
        "            tag_accuracy.append((tag, accuracy, total))\n",
        "\n",
        "    # simple sorting by characteristic\n",
        "    tag_accuracy.sort(key=lambda x: x[1], reverse=True)\n",
        "\n",
        "    return tag_accuracy"
      ]
    },
    {
      "cell_type": "code",
      "execution_count": 102,
      "metadata": {
        "id": "_iRWbXlHlZw9",
        "colab": {
          "base_uri": "https://localhost:8080/"
        },
        "outputId": "d9cace3a-2623-43d4-d8d2-9f5119de9366"
      },
      "outputs": [
        {
          "output_type": "execute_result",
          "data": {
            "text/plain": [
              "[('NNP', 0.5150077760497667, 12860),\n",
              " ('CD', 0.07800487530470654, 5333),\n",
              " ('NN', 0.043785084202085, 18705),\n",
              " ('RB', 0.04120096427788735, 4563),\n",
              " ('NNS', 0.01872432954820005, 8278),\n",
              " ('DT', 0.01247997301627456, 11859),\n",
              " ('VB', 0.009853461344113188, 3958),\n",
              " ('JJ', 0.005163955589981926, 7746),\n",
              " ('IN', 0.0045746962115796996, 13990),\n",
              " ('.', 0.0016786973308712439, 5957),\n",
              " ('VBP', 0.0005361930294906167, 1865),\n",
              " ('JJS', 0.0, 276),\n",
              " (',', 0.0, 6687),\n",
              " ('CC', 0.0, 3439),\n",
              " ('VBD', 0.0, 4494),\n",
              " ('TO', 0.0, 3207),\n",
              " ('WDT', 0.0, 567),\n",
              " ('VBN', 0.0, 2726),\n",
              " ('POS', 0.0, 1209),\n",
              " ('WRB', 0.0, 362),\n",
              " ('MD', 0.0, 1471),\n",
              " ('$', 0.0, 1014),\n",
              " ('RP', 0.0, 389),\n",
              " ('PRP', 0.0, 2800),\n",
              " ('VBG', 0.0, 2125),\n",
              " ('VBZ', 0.0, 3280),\n",
              " ('RBR', 0.0, 277),\n",
              " ('EX', 0.0, 138),\n",
              " ('WP', 0.0, 340),\n",
              " ('PRP$', 0.0, 1236),\n",
              " ('NNPS', 0.0, 411),\n",
              " (';', 0.0, 176),\n",
              " (':', 0.0, 339),\n",
              " ('JJR', 0.0, 482),\n",
              " ('LRB', 0.0, 174),\n",
              " ('RRB', 0.0, 178)]"
            ]
          },
          "metadata": {},
          "execution_count": 102
        }
      ],
      "source": [
        "# TEST c8.3\n",
        "tag_score_cnt = tag_accuracy_cnt(tok_gold_pred)\n",
        "\n",
        "assert all([ 0 <= i[1] <= 1 for i in tag_score_cnt ])\n",
        "assert tag_score_cnt[0][1] > tag_score_cnt[-1][1]\n",
        "\n",
        "tag_score_cnt\n",
        "# Don't clear the output of this cell!"
      ]
    },
    {
      "cell_type": "markdown",
      "metadata": {
        "id": "rYGTKwDm-IVz"
      },
      "source": [
        "##### i8.4 [2pt]\n",
        "\n",
        "Pick any POS tag at the beginning of the list (i.e., frequently correctly predicted tags) and any POS tag at the end of the list (i.e., frequently wrongly predicted tags). Provide rationale why these POS tags are often correctly and wrongly predicted."
      ]
    },
    {
      "cell_type": "markdown",
      "metadata": {
        "id": "hALx-40w4422"
      },
      "source": [
        "**ANSWER**:\n",
        "\n",
        "**Often predicted right: NNP (around 0.52).**\n",
        "Why is NNP often predicted correctly? NNPs are proper nouns: these can be names of places, people or organisations/companies. These names are relatively distinct, and stand out when compared to other words, making it easier for the model to identify. Additionally, proper nouns tend to be less context-dependent than other words, and they often appear in a 'predictable' position, such as the beginning of a sentence. This consistency in structure makes it easy for a model to recognize NNPs.\n",
        "\n",
        "**Often predicted wrong: PRP (0.0)**\n",
        "Why is PRP often predicted wrong? PRPs are personal pronouns (so he, she, they, it, etc.). Pronouns are very much context-dependent. Pronouns are very frequent in texts, and it's sometimes hard to see to which noun they refer, resulting in situations of ambiguity. This ambiguity, combined with the strong dependence on the context, makes it difficult for models to correctly tag PRPs."
      ]
    },
    {
      "cell_type": "markdown",
      "metadata": {
        "id": "oY9_NyYhRL67"
      },
      "source": [
        "### RNNs and human sentence processing\n",
        "\n",
        "We now move on to psycholinguistics and sentence processing.\n",
        "\n",
        "You might have wondered up to now: what is the point of the model predicting a POS tag of the upcoming word? Who needs that? Would it not be easier to simply wait for the word and assign the POS tag when we observe it? Indeed, that would make the correctness of POS labels for a sequence go way up. Such a task is much much easier.\n",
        "\n",
        "The reason we want to predict a POS tag is not to get POS labels right: we actually do not care about them at all; we do this to *get a model that can be useful to study human sentence processing* (just like we let language models predict, not observe the upcoming word, to create models that reflects human creativity and language competence). So the real question is: is our model a good approximation of human sentence processing?\n",
        "\n",
        "We know that people constantly predict upcoming text, including abstract information like categories. When the actual text does not match our predictions, cognitive difficulties ensue. Such difficulties can be very subtle and only measurable with techniques like eye tracking or EEG (when the mismatch between predictions and the actuality is small) or can be very robust and observable even by, say, introspections (e.g., some sentences might feel odd). In order to know whether our model is any good as a model of processing, we need to know whether there is correspondence between (i) good/bad predictions of our models and (ii) cognitive easiness/difficulties experiences by language users? We explore that in Task 9."
      ]
    },
    {
      "cell_type": "markdown",
      "metadata": {
        "id": "huBGOr4cRL67"
      },
      "source": [
        "#### TASK 9\n",
        "\n",
        "We want to first measure how surprising a particular outcome is. The standard measure for this is *surprisal*. *Surprisal* is a log of inverse probability. That is, if our model predicts that a particular POS appears with the probability $p$, we calculate its suprisal $s$ as:\n",
        "$s=\\log(1/p)=-\\log(p)$\n",
        "\n",
        "With this background, implement the function `get_surprisals`, which returns, for a list of sentences, a list of lists of tuples (word, $s$) where $s$ is the surprisal value that the model has for *true tag*. The function to some extent does the same initial steps as `predict_and_contrast`.  \n",
        "<font color=\"red\">_Hint_: you should take into account what the output vector of the RNN model represents and how it is related to a log-probability distribution over POS tags."
      ]
    },
    {
      "cell_type": "code",
      "execution_count": 103,
      "metadata": {
        "id": "4iG7mgjyRL67",
        "lines_to_next_cell": 1
      },
      "outputs": [],
      "source": [
        "# @title c9.1 [3pt]\n",
        "def get_surprisals(nn, sentences: list, tags: list, sent_vec: list, tag2idx: dict):\n",
        "    \"\"\"\n",
        "    :param nn: the network representing a POS tagger\n",
        "    :param sentences: the list of sentences\n",
        "    :param tags: a list of list of tags (aligned with sentences)\n",
        "    :param sent_vec: sentences with vectorized tokens\n",
        "    :param tag2idx: mapping of tags to indices\n",
        "    :param device: device for computation, defaults to the global DEVICE value\n",
        "    returns a list of sentences, where sentences are a list of tuples:\n",
        "        (token, reference_tag, surprisal)\n",
        "    \"\"\"\n",
        "    results = []\n",
        "\n",
        "    nn.eval()\n",
        "    with torch.no_grad():\n",
        "        for i, (sentence, true_tags, vec) in enumerate(zip(sentences, tags, sent_vec)):\n",
        "            if len(sentence) == 0 or vec.size(0) == 0:\n",
        "                results.append([])\n",
        "                continue\n",
        "\n",
        "            sentence_result = []\n",
        "            vec = vec.to(DEVICE)\n",
        "\n",
        "            predictions = nn(vec.unsqueeze(0))\n",
        "\n",
        "            words = sentence.split()\n",
        "\n",
        "            # words and tags iteration\n",
        "            for j, word in enumerate(words):\n",
        "                if j < len(true_tags):\n",
        "                    true_tag = true_tags[j]\n",
        "                    true_tag_idx = tag2idx[true_tag]\n",
        "                    if j < predictions.size(1):\n",
        "                        log_prob = predictions[0, j, true_tag_idx].item()\n",
        "                        # surprisal = -log(prob)\n",
        "                        surprisal = -log_prob\n",
        "                        sentence_result.append((word, true_tag, surprisal))\n",
        "\n",
        "            results.append(sentence_result)\n",
        "\n",
        "    return results"
      ]
    },
    {
      "cell_type": "code",
      "execution_count": 104,
      "metadata": {
        "id": "lPx_qrLVRL68"
      },
      "outputs": [],
      "source": [
        "# TEST c9.1\n",
        "sent_tags_surp = get_surprisals(lstm, sentences_val, postags_val, X_val, pos_to_int)\n",
        "\n",
        "assert all([ len(t) == 3 for s in sent_tags_surp for t in s ])"
      ]
    },
    {
      "cell_type": "markdown",
      "metadata": {
        "id": "J7TZhqOzRL67"
      },
      "source": [
        "Now, check the code on a few sentences from the validation set. You should see that often, where the model was off with its prediction (as noticed in Task 8), the surprisal should be higher, where it was correct, it should be lower."
      ]
    },
    {
      "cell_type": "code",
      "execution_count": 105,
      "metadata": {
        "id": "Lx5NMBAJLf6s",
        "colab": {
          "base_uri": "https://localhost:8080/"
        },
        "outputId": "a8989e82-7cda-41b2-ba6a-61dd70a62e30"
      },
      "outputs": [
        {
          "output_type": "stream",
          "name": "stdout",
          "text": [
            "Mr.|NNP|0.000026\n",
            "Melloan|NNP|1.193258\n",
            "'s|POS|8.244677\n",
            "column|NN|2.146655\n",
            "was|VBD|8.963748\n",
            "right|RB|1.095345\n",
            "on|IN|5.820523\n",
            "the|DT|10.069218\n",
            "money|NN|2.368642\n",
            ",|,|8.714708\n",
            "but|CC|9.064455\n",
            "I|PRP|8.354137\n",
            "wish|VBP|5.799029\n",
            "it|PRP|7.526567\n",
            "could|MD|9.480750\n",
            "have|VB|8.077374\n",
            "gone|VBN|9.476264\n",
            "one|CD|4.453243\n",
            "step|NN|7.165858\n",
            "further|RBR|7.238969\n",
            "\n",
            "How|WRB|7.255413\n",
            "unprofessional|JJ|3.365016\n",
            "we|PRP|8.723741\n",
            "must|MD|8.858558\n",
            "have|VB|8.077374\n",
            "appeared|VBN|4.324864\n",
            "to|TO|12.499199\n",
            "the|DT|10.069218\n",
            "outside|JJ|4.470361\n",
            "world|NN|2.028725\n",
            "--|IN|3.276589\n",
            "how|WRB|8.770876\n",
            "incompetent|JJ|2.662776\n",
            "at|IN|6.063151\n",
            "risk|NN|2.364162\n",
            "assessment|NN|2.153266\n",
            "and|CC|8.886608\n",
            "evaluation|NN|1.677929\n",
            ",|,|8.714708\n",
            "he|PRP|9.057196\n",
            "says|VBZ|11.154913\n",
            "\n"
          ]
        }
      ],
      "source": [
        "# we check the surprisal values for 2 sentences (feel free to pick your own sentences)\n",
        "for s in sent_tags_surp[37:39]: # feel free to change the slice indices\n",
        "    print('\\n'.join([ f\"{t[0]}|{t[1]}|{t[2]:.6f}\" for t in s  ]), end=\"\\n\\n\") # we translate surprisal back to probabilities"
      ]
    },
    {
      "cell_type": "markdown",
      "metadata": {
        "id": "9f862dqrKcIG"
      },
      "source": [
        "Finally, let's check the average surprisal per POS tag. What POS has the lowest average surprisal? And what POS has the highest surprisal? The result should be correlated with the accuracy scores per tag: more predictable tags get lower surprisal and less predictable tags higher surprisal."
      ]
    },
    {
      "cell_type": "code",
      "execution_count": 106,
      "metadata": {
        "id": "76nuHSBRKcIG"
      },
      "outputs": [],
      "source": [
        "# @title c9.2 [1pt]\n",
        "def tag_surprisal(sent_tag_surp: list, cut_off: int=100) -> list:\n",
        "    \"\"\"\n",
        "    :param sent_tag_surp: a list of sentences, where sentences are a list of tuples:\n",
        "        (token, correct POS tag, surprisal of the POS tag)\n",
        "    :param cut_off: the minimum number of occurrences of a POS tag\n",
        "    return a list of tuples of (tag, average_surprisal, number_of_occurrences_of_tag)\n",
        "    the list is sorted in ascending order of the average_surprisal\n",
        "    \"\"\"\n",
        "\n",
        "    tag_surpr_sum = {}\n",
        "    tag_total = {}\n",
        "\n",
        "    # sum\n",
        "    for sentence in sent_tag_surp:\n",
        "        for _, tag, surprisal in sentence:\n",
        "            tag_surpr_sum[tag] = tag_surpr_sum.get(tag, 0) + surprisal\n",
        "            tag_total[tag] = tag_total.get(tag, 0) + 1\n",
        "\n",
        "    # average\n",
        "    tag_avg_surprisal = []\n",
        "    for tag, total in tag_total.items():\n",
        "        if total >= cut_off:\n",
        "            avg_surprisal = tag_surpr_sum[tag] / total\n",
        "            tag_avg_surprisal.append((tag, avg_surprisal, total))\n",
        "\n",
        "    tag_avg_surprisal.sort(key=lambda x: x[1])\n",
        "\n",
        "    return tag_avg_surprisal"
      ]
    },
    {
      "cell_type": "code",
      "execution_count": 107,
      "metadata": {
        "id": "2luPtEzFSHS5",
        "colab": {
          "base_uri": "https://localhost:8080/"
        },
        "outputId": "8040af18-0a52-4ce5-817d-2d56ace16867"
      },
      "outputs": [
        {
          "output_type": "execute_result",
          "data": {
            "text/plain": [
              "[('NNP', 1.8987752571970908, 12840),\n",
              " ('NN', 3.64613696342349, 18697),\n",
              " ('JJ', 3.669650338161155, 7746),\n",
              " ('RB', 3.6701533586185664, 4558),\n",
              " ('CD', 3.998006420591198, 5331),\n",
              " ('LRB', 5.949361324310303, 174),\n",
              " ('IN', 6.375744771269602, 13987),\n",
              " ('JJR', 6.441189431550592, 482),\n",
              " ('VBN', 6.46493003434848, 2726),\n",
              " ('NNS', 6.602870610925127, 8268),\n",
              " ('VBG', 6.657356495688943, 2125),\n",
              " ('RP', 6.749068721094598, 389),\n",
              " ('WDT', 6.790453498746142, 567),\n",
              " ('NNPS', 7.090936349236906, 406),\n",
              " ('VB', 7.266090944375478, 3957),\n",
              " ('PRP', 7.884184080192021, 2800),\n",
              " ('VBP', 7.935758453431782, 1865),\n",
              " (':', 7.939212243321916, 284),\n",
              " ('JJS', 7.95857362470765, 276),\n",
              " ('POS', 8.293414654664701, 1209),\n",
              " ('VBZ', 8.53545852092708, 3280),\n",
              " ('CC', 8.562162493023285, 3439),\n",
              " ('EX', 8.608606393786443, 138),\n",
              " (',', 8.71494800165329, 6685),\n",
              " ('WP', 8.76838621672462, 340),\n",
              " ('RBR', 8.835312924230141, 277),\n",
              " ('MD', 8.880623741914917, 1471),\n",
              " ('VBD', 8.93632113899079, 4494),\n",
              " ('DT', 8.95365711164792, 11859),\n",
              " ('RRB', 9.002891090512275, 160),\n",
              " (';', 9.228295992721211, 176),\n",
              " ('PRP$', 9.338490441007522, 1236),\n",
              " ('WRB', 9.4379494941037, 362),\n",
              " ('$', 9.89371772724731, 1014),\n",
              " ('TO', 12.462879133908658, 3206)]"
            ]
          },
          "metadata": {},
          "execution_count": 107
        }
      ],
      "source": [
        "# TEST c9.2\n",
        "tag_avg_surp = tag_surprisal(sent_tags_surp, cut_off=100)\n",
        "\n",
        "assert all([ len(i) == 3 for i in tag_avg_surp ])\n",
        "assert tag_avg_surp[0][1] < tag_avg_surp[-1][1]\n",
        "\n",
        "tag_avg_surp"
      ]
    },
    {
      "cell_type": "markdown",
      "metadata": {
        "id": "gJysJ-4oRL68"
      },
      "source": [
        "#### TASK 10\n",
        "\n",
        "One famous case of processing difficulties is represented by [garden-path sentences](https://en.wikipedia.org/wiki/Garden-path_sentence): sentences that are hard to parse. The reason that garden path sentences are hard to parse is because they do not match our expectations.\n",
        "\n",
        "Do we see the same with the models?\n",
        "\n",
        "Below, we collected sentences (printed in pairs, such that the first element in the pair is a garden-path sentence, the second element is a minimally different sentence which carries the same interpretation but which is not garden path because the expected interpretation is signalled early on). The comments show names under which such garden path constructions are categorized in literature."
      ]
    },
    {
      "cell_type": "code",
      "execution_count": 108,
      "metadata": {
        "id": "LtDGZdx0RL68"
      },
      "outputs": [],
      "source": [
        "# some examples\n",
        "gps = [\n",
        "    \"The banker informed about the recession resigned .\", \"The banker who was informed about the recession resigned .\", # main-clause/reduced relative ambiguity\n",
        "    \"Before the manager walks the dog is happy .\", \"Before the manager walks , the dog is happy .\", # NP/Z ambiguity\n",
        "    \"I saw the students danced .\", \"I saw that the students danced .\", #NP/S ambiguity\n",
        "    \"The man put the book on the towel into the box\", \"The man put the book that was on the towel into the box\", #PP ambiguity\n",
        "    \"The horse raced past the barn fell .\", \"The horse that raced past the barn fell .\"] # reduced relative clause"
      ]
    },
    {
      "cell_type": "markdown",
      "metadata": {
        "id": "Eexcn3EJRL68"
      },
      "source": [
        "We let `spaCy` create docs out of the sentences (just as we did for training and validation), then we collect POS tags as generated by `spaCy` and create tensors for words and tags. Fortunately, spaCy's POS tagger is enough precise to tag the given sentences correctly."
      ]
    },
    {
      "cell_type": "code",
      "execution_count": 109,
      "metadata": {
        "id": "yWVMaOtYRL69",
        "colab": {
          "base_uri": "https://localhost:8080/"
        },
        "outputId": "cfbf7375-a9ce-42dc-863f-850721d6b82f"
      },
      "outputs": [
        {
          "output_type": "stream",
          "name": "stdout",
          "text": [
            "[['DT', 'NN', 'VBN', 'IN', 'DT', 'NN', 'VBD', '.'], ['DT', 'NN', 'WP', 'VBD', 'VBN', 'IN', 'DT', 'NN', 'VBD', '.'], ['IN', 'DT', 'NN', 'VBZ', 'DT', 'NN', 'VBZ', 'JJ', '.'], ['IN', 'DT', 'NN', 'VBZ', ',', 'DT', 'NN', 'VBZ', 'JJ', '.'], ['PRP', 'VBD', 'DT', 'NNS', 'VBD', '.'], ['PRP', 'VBD', 'IN', 'DT', 'NNS', 'VBD', '.'], ['DT', 'NN', 'VBD', 'DT', 'NN', 'IN', 'DT', 'NN', 'IN', 'DT', 'NN'], ['DT', 'NN', 'VBD', 'DT', 'NN', 'WDT', 'VBD', 'IN', 'DT', 'NN', 'IN', 'DT', 'NN'], ['DT', 'NN', 'VBD', 'IN', 'DT', 'NN', 'VBD', '.'], ['DT', 'NN', 'WDT', 'VBD', 'IN', 'DT', 'NN', 'VBD', '.']]\n"
          ]
        }
      ],
      "source": [
        "gps_docs = [ spacy.tokens.doc.Doc(nlp.vocab, words=s.split()) for s in gps ]\n",
        "\n",
        "gps_postags = [ [word.tag_ for word in nlp(s)] for s in gps ]\n",
        "\n",
        "print(gps_postags)\n",
        "\n",
        "# convert to tensors\n",
        "gps_vectors = [ np.array([word.vector for word in doc]) for doc in gps_docs ]\n",
        "gps_tensors = [ torch.tensor(sentence_vectors) for sentence_vectors in gps_vectors ]"
      ]
    },
    {
      "cell_type": "markdown",
      "metadata": {
        "id": "VJaRBff3RL69"
      },
      "source": [
        "##### i10 [6pt]\n",
        "\n",
        "Run your models on the sentences and collect surprisals for both LSTM and SRN models.\n",
        "\n",
        "Inspect and describe the results. Do models capture any of the cases right?\n",
        "\n",
        "When answering these questions, keep in mind that we do not care about surprisal values for all words. We only care about surprisal values for those words at which people experience surprises about the sentences: these are the verbs 'resigned', 'is', 'danced', and the preposition 'into' in the examples above. Do the models assign higher surprisals/lower probabilities to the target words in garden paths compared to minimally different sentences? And do the two models differ? If so, speculate why this might be. **Also, add one extra pair of a garden path and inspect its surprisal values.**"
      ]
    },
    {
      "cell_type": "code",
      "execution_count": 110,
      "metadata": {
        "id": "R9dXQFR6RL69",
        "colab": {
          "base_uri": "https://localhost:8080/"
        },
        "outputId": "fbfb0141-c802-425a-c67a-423fa8011937"
      },
      "outputs": [
        {
          "output_type": "stream",
          "name": "stdout",
          "text": [
            "\n",
            "LSTM Model Surprisals:\n",
            "\n",
            "Sentence 1: The banker informed about the recession resigned .\n",
            "resigned (True Tag: VBD) - Surprisal: 7.271979\n",
            "\n",
            "Sentence 2: The banker who was informed about the recession resigned .\n",
            "resigned (True Tag: VBD) - Surprisal: 7.271979\n",
            "\n",
            "Sentence 3: Before the manager walks the dog is happy .\n",
            "is (True Tag: VBZ) - Surprisal: 9.338446\n",
            "\n",
            "Sentence 4: Before the manager walks , the dog is happy .\n",
            "is (True Tag: VBZ) - Surprisal: 9.338446\n",
            "\n",
            "Sentence 5: I saw the students danced .\n",
            "danced (True Tag: VBD) - Surprisal: 7.537851\n",
            "\n",
            "Sentence 6: I saw that the students danced .\n",
            "danced (True Tag: VBD) - Surprisal: 7.537851\n",
            "\n",
            "Sentence 7: The man put the book on the towel into the box\n",
            "into (True Tag: IN) - Surprisal: 7.713938\n",
            "\n",
            "Sentence 8: The man put the book that was on the towel into the box\n",
            "into (True Tag: IN) - Surprisal: 7.713938\n",
            "\n",
            "Sentence 9: The horse raced past the barn fell .\n",
            "fell (True Tag: VBD) - Surprisal: 6.816940\n",
            "\n",
            "Sentence 10: The horse that raced past the barn fell .\n",
            "fell (True Tag: VBD) - Surprisal: 6.816940\n",
            "\n",
            "SRN Model Surprisals:\n",
            "\n",
            "Sentence 1: The banker informed about the recession resigned .\n",
            "resigned (True Tag: VBD) - Surprisal: 5.885833\n",
            "\n",
            "Sentence 2: The banker who was informed about the recession resigned .\n",
            "resigned (True Tag: VBD) - Surprisal: 5.885833\n",
            "\n",
            "Sentence 3: Before the manager walks the dog is happy .\n",
            "is (True Tag: VBZ) - Surprisal: 8.605648\n",
            "\n",
            "Sentence 4: Before the manager walks , the dog is happy .\n",
            "is (True Tag: VBZ) - Surprisal: 8.605648\n",
            "\n",
            "Sentence 5: I saw the students danced .\n",
            "danced (True Tag: VBD) - Surprisal: 5.601615\n",
            "\n",
            "Sentence 6: I saw that the students danced .\n",
            "danced (True Tag: VBD) - Surprisal: 5.601615\n",
            "\n",
            "Sentence 7: The man put the book on the towel into the box\n",
            "into (True Tag: IN) - Surprisal: 5.972577\n",
            "\n",
            "Sentence 8: The man put the book that was on the towel into the box\n",
            "into (True Tag: IN) - Surprisal: 5.972577\n",
            "\n",
            "Sentence 9: The horse raced past the barn fell .\n",
            "fell (True Tag: VBD) - Surprisal: 9.273014\n",
            "\n",
            "Sentence 10: The horse that raced past the barn fell .\n",
            "fell (True Tag: VBD) - Surprisal: 9.273014\n"
          ]
        }
      ],
      "source": [
        "# YOUR CODE HERE\n",
        "lstm_sur = get_surprisals(lstm, gps, gps_postags, gps_tensors, pos_to_int)\n",
        "srn_sur = get_surprisals(srn, gps, gps_postags, gps_tensors, pos_to_int)\n",
        "\n",
        "target_words = [\"resigned\", \"is\", \"danced\", \"into\",\"fell\"]\n",
        "\n",
        "def ins_surprisals(sent_tags_surp, target_words):\n",
        "    for idx, (sentence, surprisal_results) in enumerate(zip(gps, sent_tags_surp)):\n",
        "        print(f\"\\nSentence {idx+1}: {sentence}\")\n",
        "        for word, tag, surprisal in surprisal_results:\n",
        "            if word in target_words:\n",
        "                print(f\"{word} (True Tag: {tag}) - Surprisal: {surprisal:.6f}\")\n",
        "\n",
        "print(\"\\nLSTM Model Surprisals:\")\n",
        "ins_surprisals(lstm_sur, target_words)\n",
        "\n",
        "print(\"\\nSRN Model Surprisals:\")\n",
        "ins_surprisals(srn_sur, target_words)"
      ]
    },
    {
      "cell_type": "markdown",
      "metadata": {
        "id": "6XreXf0Eqx9_"
      },
      "source": [
        "**ANSWER**:\n",
        "\n",
        "\n",
        "We added the garden-path sentence 'The horse raced past the barn fell.'/'The horse that raced past the barn fell.'.\n",
        "\n",
        "Surprisingly, we get the same surprisal rates for both the garden-path version of each sentence, and the non-garden-path version of each sentence. This is not what we expected, and is probably due to an error in our model, which we sadly have not been able to fix.\n",
        "\n",
        "What *should* have happened, is that there rates between non-garden-path and garden-path sentences of the SRN model should have stayed approximately the same. Our SRN (simple RNN) has a limited ability to remember long-term dependencies due to the vanishing gradient problem. As a result, the expected behavior for SRN would be similar surprisal values for both garden-path and non-garden-path sentences. The SRN model may not adequately capture the ambiguity present in garden-path sentences, and therefore the surprisal values may remain relatively constant across both versions.\n",
        "\n",
        "So far, this meets the expectations. However, for the LSTM model we would have expected a better handling of ambiguity. LSTMs are designed to overcome the vanishing gradient problem by using gates that selectively forget or remember information. This allows LSTMs to handle longer dependencies correctly and maintain context, which is crucial for correctly interpreting garden-path sentences. Expected behavior for the LSTM would be higher surprisal values for the critical words in garden-path sentences compared to their (minimally different) non-garden-path versions. For non-garden-path sentences, the critical words should fit into the predicted structure quite smoothly, resulting in lower surprisal values."
      ]
    },
    {
      "cell_type": "markdown",
      "metadata": {
        "id": "nbgNN_S8W9Y6"
      },
      "source": [
        "# Acknowledgment\n",
        "\n",
        "The jupyter notebook was initially created by Konstantinos Kogkalidis and Tejaswini Deoskar.  \n",
        "The changes, including adaptation to the Colab environment and formulation of several coding tasks in terms of functions, are by Lasha Abzianidze.\n",
        "Modeling surprisal of the next words POS tag was added by Jakub Dotlacil."
      ]
    }
  ],
  "metadata": {
    "accelerator": "GPU",
    "colab": {
      "gpuType": "T4",
      "provenance": []
    },
    "jupytext": {
      "main_language": "python"
    },
    "kernelspec": {
      "display_name": "Python 3 (ipykernel)",
      "language": "python",
      "name": "python3"
    },
    "language_info": {
      "codemirror_mode": {
        "name": "ipython",
        "version": 3
      },
      "file_extension": ".py",
      "mimetype": "text/x-python",
      "name": "python",
      "nbconvert_exporter": "python",
      "pygments_lexer": "ipython3",
      "version": "3.12.3"
    }
  },
  "nbformat": 4,
  "nbformat_minor": 0
}